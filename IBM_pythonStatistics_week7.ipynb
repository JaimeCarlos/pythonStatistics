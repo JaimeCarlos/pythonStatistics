{
 "cells": [
  {
   "cell_type": "code",
   "execution_count": 0,
   "metadata": {
    "application/vnd.databricks.v1+cell": {
     "cellMetadata": {
      "byteLimit": 2048000,
      "rowLimit": 10000
     },
     "inputWidgets": {},
     "nuid": "1f11d293-47a1-4036-9222-4e2fb3944d67",
     "showTitle": false,
     "title": ""
    }
   },
   "outputs": [],
   "source": []
  },
  {
   "cell_type": "code",
   "execution_count": 0,
   "metadata": {
    "application/vnd.databricks.v1+cell": {
     "cellMetadata": {
      "byteLimit": 2048000,
      "rowLimit": 10000
     },
     "inputWidgets": {},
     "nuid": "d4b270d4-e539-4b81-8438-2f42b8f6099d",
     "showTitle": false,
     "title": ""
    }
   },
   "outputs": [],
   "source": []
  },
  {
   "cell_type": "code",
   "execution_count": 0,
   "metadata": {
    "application/vnd.databricks.v1+cell": {
     "cellMetadata": {
      "byteLimit": 2048000,
      "rowLimit": 10000
     },
     "inputWidgets": {},
     "nuid": "1eb73d40-2a8f-4594-a705-bd7b609b7c7f",
     "showTitle": false,
     "title": ""
    }
   },
   "outputs": [],
   "source": []
  },
  {
   "cell_type": "code",
   "execution_count": 0,
   "metadata": {
    "application/vnd.databricks.v1+cell": {
     "cellMetadata": {
      "byteLimit": 2048000,
      "rowLimit": 10000
     },
     "inputWidgets": {},
     "nuid": "400c1710-68fa-4eee-8a37-25e266bde418",
     "showTitle": false,
     "title": ""
    }
   },
   "outputs": [],
   "source": []
  },
  {
   "cell_type": "code",
   "execution_count": 0,
   "metadata": {
    "application/vnd.databricks.v1+cell": {
     "cellMetadata": {
      "byteLimit": 2048000,
      "rowLimit": 10000
     },
     "inputWidgets": {},
     "nuid": "0f317399-b3a6-4768-8b9e-c2a9eacf5f4b",
     "showTitle": false,
     "title": ""
    }
   },
   "outputs": [
    {
     "data": {
      "text/plain": [
       "\u001b[0;36m  File \u001b[0;32m<command-2826638283817113>:3\u001b[0;36m\u001b[0m\n",
       "\u001b[0;31m    housing prices derived from the U.S. Census Service\u001b[0m\n",
       "\u001b[0m            ^\u001b[0m\n",
       "\u001b[0;31mSyntaxError\u001b[0m\u001b[0;31m:\u001b[0m invalid syntax\n"
      ]
     },
     "metadata": {
      "application/vnd.databricks.v1+output": {
       "arguments": {},
       "data": "\u001b[0;36m  File \u001b[0;32m<command-2826638283817113>:3\u001b[0;36m\u001b[0m\n\u001b[0;31m    housing prices derived from the U.S. Census Service\u001b[0m\n\u001b[0m            ^\u001b[0m\n\u001b[0;31mSyntaxError\u001b[0m\u001b[0;31m:\u001b[0m invalid syntax\n",
       "errorSummary": "<span class='ansi-red-fg'>SyntaxError</span>: invalid syntax (<command-2826638283817113>, line 3)",
       "errorTraceType": "ansi",
       "metadata": {},
       "type": "ipynbError"
      }
     },
     "output_type": "display_data"
    }
   ],
   "source": [
    "#Project Case: Boston Housing Data\n",
    "\n",
    "housing prices derived from the U.S. Census Service\n",
    "present insights to higher management\n",
    "\n",
    "what information can you provide Higher Managment to help with making an informed decision?\n",
    "Upper management will like to get some insight into the following:\n",
    "    \n",
    "    1.Is there a significant difference in the median value of houses bounded by the Charles river or not?\n",
    "    2.Is there a difference in median values of houses of each proportion of owner-occupied units built before 1940?\n",
    "    3.Can we conclude that there is no relationship between Nitric oxide concentrations and the proportion of non-retail business acres per town?\n",
    "    4.What is the impact of an additional weighted distance to the five Boston employment centres on the median value of owner-occupied homes?\n",
    "    \n",
    "\n",
    "Using the appropriate:\n",
    "    graphs,\n",
    "    charts,\n",
    "    generate basic statistics,\n",
    "    visualizations \n",
    "    that you think will be useful for the upper management to give them important insight given the question they are asking, \n",
    "\n",
    "    In your graphs, include an explanation of each statistic. \n",
    "\n",
    "\n",
    "\n",
    "\n",
    "\n",
    "\n",
    "\n",
    "\n",
    "\n",
    "\n",
    "\n",
    "OVERVIEW OF PROJECT TASK\n",
    "\n",
    "Final Project: For the project scenario, here is an overview of your tasks. The following reading sections will provide you with detailed instructions for each task.\n",
    "\n",
    "\n",
    "Task 1: Familiarize yourself with the dataset \n",
    "Task 2: (Optional) If you do not already have an instance of Watson Studio, create an IBM Cloud Lite account and provision an instance of Waston Studio.\n",
    "Task 3: Load the dataset in a Jupyter Notebook using Watson Studio.\n",
    "Task 4: Generate basic statistics and visualizations for upper management. \n",
    "Task 5: Use the appropriate tests to answer the questions provided.\n",
    "Task 6: Share your Jupyter Notebook.\n",
    "\n",
    "This project is worth 15% of your final grade. Detailed instructions for each of these tasks follow.\n",
    "\n"
   ]
  },
  {
   "cell_type": "code",
   "execution_count": 0,
   "metadata": {
    "application/vnd.databricks.v1+cell": {
     "cellMetadata": {
      "byteLimit": 2048000,
      "rowLimit": 10000
     },
     "inputWidgets": {},
     "nuid": "ba16d591-f8ea-4f85-b2a0-1420307edd04",
     "showTitle": false,
     "title": ""
    }
   },
   "outputs": [
    {
     "data": {
      "text/plain": []
     },
     "metadata": {
      "application/vnd.databricks.v1+output": {
       "arguments": {},
       "data": "",
       "errorSummary": "Command skipped",
       "errorTraceType": "ansi",
       "metadata": {},
       "type": "ipynbError"
      }
     },
     "output_type": "display_data"
    }
   ],
   "source": [
    "#Task 1 (Familiarize yourself with the dataset)\n",
    "\n",
    "The following describes the dataset variables:\n",
    "\n",
    "·      CRIM - per capita crime rate by town\n",
    "\n",
    "·      ZN - proportion of residential land zoned for lots over 25,000 sq.ft.\n",
    "\n",
    "·      INDUS - proportion of non-retail business acres per town.\n",
    "\n",
    "·      CHAS - Charles River dummy variable (1 if tract bounds river; 0 otherwise)\n",
    "\n",
    "·      NOX - nitric oxides concentration (parts per 10 million)\n",
    "\n",
    "·      RM - average number of rooms per dwelling\n",
    "\n",
    "·      AGE - proportion of owner-occupied units built prior to 1940\n",
    "\n",
    "·      DIS - weighted distances to five Boston employment centres\n",
    "\n",
    "·      RAD - index of accessibility to radial highways\n",
    "\n",
    "·      TAX - full-value property-tax rate per $10,000\n",
    "\n",
    "·      PTRATIO - pupil-teacher ratio by town\n",
    "\n",
    "·      LSTAT - % lower status of the population\n",
    "\n",
    "·      MEDV - Median value of owner-occupied homes in $1000's\n",
    "\n"
   ]
  },
  {
   "cell_type": "code",
   "execution_count": 0,
   "metadata": {
    "application/vnd.databricks.v1+cell": {
     "cellMetadata": {
      "byteLimit": 2048000,
      "rowLimit": 10000
     },
     "inputWidgets": {},
     "nuid": "5e8198b1-dd3a-467a-acc8-20a1325c4b50",
     "showTitle": false,
     "title": ""
    }
   },
   "outputs": [],
   "source": []
  },
  {
   "cell_type": "code",
   "execution_count": 0,
   "metadata": {
    "application/vnd.databricks.v1+cell": {
     "cellMetadata": {
      "byteLimit": 2048000,
      "rowLimit": 10000
     },
     "inputWidgets": {},
     "nuid": "8c065387-b19e-46f1-bbf3-8c1e240155d7",
     "showTitle": false,
     "title": ""
    }
   },
   "outputs": [],
   "source": [
    "import matplotlib.pyplot as pyplot\n",
    "import seaborn as sns\n",
    "import matplotlib.pyplot as plt \n",
    "import scipy.stats\n",
    "from statsmodels.formula.api import ols\n",
    "import statsmodels.api as sm"
   ]
  },
  {
   "cell_type": "code",
   "execution_count": 0,
   "metadata": {
    "application/vnd.databricks.v1+cell": {
     "cellMetadata": {
      "byteLimit": 2048000,
      "rowLimit": 10000
     },
     "inputWidgets": {},
     "nuid": "9c010783-9fb5-4e58-b931-06067ee5e9a6",
     "showTitle": false,
     "title": ""
    }
   },
   "outputs": [],
   "source": [
    "#TASK 2: CREATE OR LOGIN INTO IBM CLOUD TO USE WATSON STUDIO (SKIP SKIP SKIP )"
   ]
  },
  {
   "cell_type": "code",
   "execution_count": 0,
   "metadata": {
    "application/vnd.databricks.v1+cell": {
     "cellMetadata": {
      "byteLimit": 2048000,
      "rowLimit": 10000
     },
     "inputWidgets": {},
     "nuid": "554cdab2-9a5c-4ea8-8524-08a445becab6",
     "showTitle": false,
     "title": ""
    }
   },
   "outputs": [],
   "source": [
    "from pyspark.sql.functions import col"
   ]
  },
  {
   "cell_type": "code",
   "execution_count": 0,
   "metadata": {
    "application/vnd.databricks.v1+cell": {
     "cellMetadata": {
      "byteLimit": 2048000,
      "rowLimit": 10000
     },
     "inputWidgets": {},
     "nuid": "92a11bf6-bb36-44b2-af79-fcd54d26baac",
     "showTitle": false,
     "title": ""
    }
   },
   "outputs": [],
   "source": [
    "#TASK 3: Load in the Dataset in your Jupyter Notebook\n",
    "df_spark= spark.read.option(\"escape\", \"\\\"\").csv(, header=\"true\")\n",
    "for column in df_spark.columns:\n",
    "    df_spark = df_spark.withColumn(column, col(column).cast('float'))"
   ]
  },
  {
   "cell_type": "code",
   "execution_count": 0,
   "metadata": {
    "application/vnd.databricks.v1+cell": {
     "cellMetadata": {
      "byteLimit": 2048000,
      "rowLimit": 10000
     },
     "inputWidgets": {},
     "nuid": "787c5132-175d-42c3-9a8a-519163d3bc8b",
     "showTitle": false,
     "title": ""
    }
   },
   "outputs": [
    {
     "name": "stdout",
     "output_type": "stream",
     "text": [
      "Out[6]: (506, 14)"
     ]
    }
   ],
   "source": [
    "df_pandas= df_spark.toPandas()\n",
    "df = df_pandas.copy()\n",
    "df.shape"
   ]
  },
  {
   "cell_type": "code",
   "execution_count": 0,
   "metadata": {
    "application/vnd.databricks.v1+cell": {
     "cellMetadata": {
      "byteLimit": 2048000,
      "rowLimit": 10000
     },
     "inputWidgets": {},
     "nuid": "93621dd8-aa5a-487a-becf-4a78f0c8df4b",
     "showTitle": false,
     "title": ""
    }
   },
   "outputs": [
    {
     "name": "stdout",
     "output_type": "stream",
     "text": [
      "<class 'pandas.core.frame.DataFrame'>\n",
      "RangeIndex: 506 entries, 0 to 505\n",
      "Data columns (total 14 columns):\n",
      " #   Column   Non-Null Count  Dtype  \n",
      "---  ------   --------------  -----  \n",
      " 0   crim     506 non-null    float32\n",
      " 1   zn       506 non-null    float32\n",
      " 2   indus    506 non-null    float32\n",
      " 3   chas     506 non-null    float32\n",
      " 4   nox      506 non-null    float32\n",
      " 5   rm       506 non-null    float32\n",
      " 6   age      506 non-null    float32\n",
      " 7   dis      506 non-null    float32\n",
      " 8   rad      506 non-null    float32\n",
      " 9   tax      506 non-null    float32\n",
      " 10  ptratio  506 non-null    float32\n",
      " 11  b        506 non-null    float32\n",
      " 12  lstat    506 non-null    float32\n",
      " 13  medv     506 non-null    float32\n",
      "dtypes: float32(14)\n",
      "memory usage: 27.8 KB\n"
     ]
    }
   ],
   "source": [
    "df.info()"
   ]
  },
  {
   "cell_type": "code",
   "execution_count": 0,
   "metadata": {
    "application/vnd.databricks.v1+cell": {
     "cellMetadata": {
      "byteLimit": 2048000,
      "rowLimit": 10000
     },
     "inputWidgets": {},
     "nuid": "7454af94-b3a1-484f-959a-2c287f9b54cc",
     "showTitle": false,
     "title": ""
    }
   },
   "outputs": [
    {
     "data": {
      "text/html": [
       "<div>\n",
       "<style scoped>\n",
       "    .dataframe tbody tr th:only-of-type {\n",
       "        vertical-align: middle;\n",
       "    }\n",
       "\n",
       "    .dataframe tbody tr th {\n",
       "        vertical-align: top;\n",
       "    }\n",
       "\n",
       "    .dataframe thead th {\n",
       "        text-align: right;\n",
       "    }\n",
       "</style>\n",
       "<table border=\"1\" class=\"dataframe\">\n",
       "  <thead>\n",
       "    <tr style=\"text-align: right;\">\n",
       "      <th></th>\n",
       "      <th>crim</th>\n",
       "      <th>zn</th>\n",
       "      <th>indus</th>\n",
       "      <th>chas</th>\n",
       "      <th>nox</th>\n",
       "      <th>rm</th>\n",
       "      <th>age</th>\n",
       "      <th>dis</th>\n",
       "      <th>rad</th>\n",
       "      <th>tax</th>\n",
       "      <th>ptratio</th>\n",
       "      <th>b</th>\n",
       "      <th>lstat</th>\n",
       "      <th>medv</th>\n",
       "    </tr>\n",
       "  </thead>\n",
       "  <tbody>\n",
       "    <tr>\n",
       "      <th>0</th>\n",
       "      <td>0.00632</td>\n",
       "      <td>18.0</td>\n",
       "      <td>2.31</td>\n",
       "      <td>0.0</td>\n",
       "      <td>0.538</td>\n",
       "      <td>6.575</td>\n",
       "      <td>65.199997</td>\n",
       "      <td>4.0900</td>\n",
       "      <td>1.0</td>\n",
       "      <td>296.0</td>\n",
       "      <td>15.300000</td>\n",
       "      <td>396.899994</td>\n",
       "      <td>4.98</td>\n",
       "      <td>24.000000</td>\n",
       "    </tr>\n",
       "    <tr>\n",
       "      <th>1</th>\n",
       "      <td>0.02731</td>\n",
       "      <td>0.0</td>\n",
       "      <td>7.07</td>\n",
       "      <td>0.0</td>\n",
       "      <td>0.469</td>\n",
       "      <td>6.421</td>\n",
       "      <td>78.900002</td>\n",
       "      <td>4.9671</td>\n",
       "      <td>2.0</td>\n",
       "      <td>242.0</td>\n",
       "      <td>17.799999</td>\n",
       "      <td>396.899994</td>\n",
       "      <td>9.14</td>\n",
       "      <td>21.600000</td>\n",
       "    </tr>\n",
       "    <tr>\n",
       "      <th>2</th>\n",
       "      <td>0.02729</td>\n",
       "      <td>0.0</td>\n",
       "      <td>7.07</td>\n",
       "      <td>0.0</td>\n",
       "      <td>0.469</td>\n",
       "      <td>7.185</td>\n",
       "      <td>61.099998</td>\n",
       "      <td>4.9671</td>\n",
       "      <td>2.0</td>\n",
       "      <td>242.0</td>\n",
       "      <td>17.799999</td>\n",
       "      <td>392.829987</td>\n",
       "      <td>4.03</td>\n",
       "      <td>34.700001</td>\n",
       "    </tr>\n",
       "    <tr>\n",
       "      <th>3</th>\n",
       "      <td>0.03237</td>\n",
       "      <td>0.0</td>\n",
       "      <td>2.18</td>\n",
       "      <td>0.0</td>\n",
       "      <td>0.458</td>\n",
       "      <td>6.998</td>\n",
       "      <td>45.799999</td>\n",
       "      <td>6.0622</td>\n",
       "      <td>3.0</td>\n",
       "      <td>222.0</td>\n",
       "      <td>18.700001</td>\n",
       "      <td>394.630005</td>\n",
       "      <td>2.94</td>\n",
       "      <td>33.400002</td>\n",
       "    </tr>\n",
       "    <tr>\n",
       "      <th>4</th>\n",
       "      <td>0.06905</td>\n",
       "      <td>0.0</td>\n",
       "      <td>2.18</td>\n",
       "      <td>0.0</td>\n",
       "      <td>0.458</td>\n",
       "      <td>7.147</td>\n",
       "      <td>54.200001</td>\n",
       "      <td>6.0622</td>\n",
       "      <td>3.0</td>\n",
       "      <td>222.0</td>\n",
       "      <td>18.700001</td>\n",
       "      <td>396.899994</td>\n",
       "      <td>5.33</td>\n",
       "      <td>36.200001</td>\n",
       "    </tr>\n",
       "  </tbody>\n",
       "</table>\n",
       "</div>"
      ]
     },
     "metadata": {
      "application/vnd.databricks.v1+output": {
       "addedWidgets": {},
       "arguments": {},
       "data": "<div>\n<style scoped>\n    .dataframe tbody tr th:only-of-type {\n        vertical-align: middle;\n    }\n\n    .dataframe tbody tr th {\n        vertical-align: top;\n    }\n\n    .dataframe thead th {\n        text-align: right;\n    }\n</style>\n<table border=\"1\" class=\"dataframe\">\n  <thead>\n    <tr style=\"text-align: right;\">\n      <th></th>\n      <th>crim</th>\n      <th>zn</th>\n      <th>indus</th>\n      <th>chas</th>\n      <th>nox</th>\n      <th>rm</th>\n      <th>age</th>\n      <th>dis</th>\n      <th>rad</th>\n      <th>tax</th>\n      <th>ptratio</th>\n      <th>b</th>\n      <th>lstat</th>\n      <th>medv</th>\n    </tr>\n  </thead>\n  <tbody>\n    <tr>\n      <th>0</th>\n      <td>0.00632</td>\n      <td>18.0</td>\n      <td>2.31</td>\n      <td>0.0</td>\n      <td>0.538</td>\n      <td>6.575</td>\n      <td>65.199997</td>\n      <td>4.0900</td>\n      <td>1.0</td>\n      <td>296.0</td>\n      <td>15.300000</td>\n      <td>396.899994</td>\n      <td>4.98</td>\n      <td>24.000000</td>\n    </tr>\n    <tr>\n      <th>1</th>\n      <td>0.02731</td>\n      <td>0.0</td>\n      <td>7.07</td>\n      <td>0.0</td>\n      <td>0.469</td>\n      <td>6.421</td>\n      <td>78.900002</td>\n      <td>4.9671</td>\n      <td>2.0</td>\n      <td>242.0</td>\n      <td>17.799999</td>\n      <td>396.899994</td>\n      <td>9.14</td>\n      <td>21.600000</td>\n    </tr>\n    <tr>\n      <th>2</th>\n      <td>0.02729</td>\n      <td>0.0</td>\n      <td>7.07</td>\n      <td>0.0</td>\n      <td>0.469</td>\n      <td>7.185</td>\n      <td>61.099998</td>\n      <td>4.9671</td>\n      <td>2.0</td>\n      <td>242.0</td>\n      <td>17.799999</td>\n      <td>392.829987</td>\n      <td>4.03</td>\n      <td>34.700001</td>\n    </tr>\n    <tr>\n      <th>3</th>\n      <td>0.03237</td>\n      <td>0.0</td>\n      <td>2.18</td>\n      <td>0.0</td>\n      <td>0.458</td>\n      <td>6.998</td>\n      <td>45.799999</td>\n      <td>6.0622</td>\n      <td>3.0</td>\n      <td>222.0</td>\n      <td>18.700001</td>\n      <td>394.630005</td>\n      <td>2.94</td>\n      <td>33.400002</td>\n    </tr>\n    <tr>\n      <th>4</th>\n      <td>0.06905</td>\n      <td>0.0</td>\n      <td>2.18</td>\n      <td>0.0</td>\n      <td>0.458</td>\n      <td>7.147</td>\n      <td>54.200001</td>\n      <td>6.0622</td>\n      <td>3.0</td>\n      <td>222.0</td>\n      <td>18.700001</td>\n      <td>396.899994</td>\n      <td>5.33</td>\n      <td>36.200001</td>\n    </tr>\n  </tbody>\n</table>\n</div>",
       "datasetInfos": [],
       "metadata": {},
       "removedWidgets": [],
       "textData": null,
       "type": "htmlSandbox"
      }
     },
     "output_type": "display_data"
    }
   ],
   "source": [
    "df.head()"
   ]
  },
  {
   "cell_type": "code",
   "execution_count": 0,
   "metadata": {
    "application/vnd.databricks.v1+cell": {
     "cellMetadata": {
      "byteLimit": 2048000,
      "rowLimit": 10000
     },
     "inputWidgets": {},
     "nuid": "1d880193-4ec1-4c27-b929-8ec61d368b9b",
     "showTitle": false,
     "title": ""
    }
   },
   "outputs": [
    {
     "data": {
      "text/html": [
       "<div>\n",
       "<style scoped>\n",
       "    .dataframe tbody tr th:only-of-type {\n",
       "        vertical-align: middle;\n",
       "    }\n",
       "\n",
       "    .dataframe tbody tr th {\n",
       "        vertical-align: top;\n",
       "    }\n",
       "\n",
       "    .dataframe thead th {\n",
       "        text-align: right;\n",
       "    }\n",
       "</style>\n",
       "<table border=\"1\" class=\"dataframe\">\n",
       "  <thead>\n",
       "    <tr style=\"text-align: right;\">\n",
       "      <th></th>\n",
       "      <th>crim</th>\n",
       "      <th>zn</th>\n",
       "      <th>indus</th>\n",
       "      <th>chas</th>\n",
       "      <th>nox</th>\n",
       "      <th>rm</th>\n",
       "      <th>age</th>\n",
       "      <th>dis</th>\n",
       "      <th>rad</th>\n",
       "      <th>tax</th>\n",
       "      <th>ptratio</th>\n",
       "      <th>b</th>\n",
       "      <th>lstat</th>\n",
       "      <th>medv</th>\n",
       "    </tr>\n",
       "  </thead>\n",
       "  <tbody>\n",
       "    <tr>\n",
       "      <th>count</th>\n",
       "      <td>506.000000</td>\n",
       "      <td>506.000000</td>\n",
       "      <td>506.000000</td>\n",
       "      <td>506.000000</td>\n",
       "      <td>506.000000</td>\n",
       "      <td>506.000000</td>\n",
       "      <td>506.000000</td>\n",
       "      <td>506.000000</td>\n",
       "      <td>506.000000</td>\n",
       "      <td>506.000000</td>\n",
       "      <td>506.000000</td>\n",
       "      <td>506.000000</td>\n",
       "      <td>506.000000</td>\n",
       "      <td>506.000000</td>\n",
       "    </tr>\n",
       "    <tr>\n",
       "      <th>mean</th>\n",
       "      <td>3.613524</td>\n",
       "      <td>11.363636</td>\n",
       "      <td>11.136780</td>\n",
       "      <td>0.069170</td>\n",
       "      <td>0.554695</td>\n",
       "      <td>6.284634</td>\n",
       "      <td>68.574898</td>\n",
       "      <td>3.795043</td>\n",
       "      <td>9.549407</td>\n",
       "      <td>408.237152</td>\n",
       "      <td>18.455534</td>\n",
       "      <td>356.674042</td>\n",
       "      <td>12.653064</td>\n",
       "      <td>22.532806</td>\n",
       "    </tr>\n",
       "    <tr>\n",
       "      <th>std</th>\n",
       "      <td>8.601545</td>\n",
       "      <td>23.322453</td>\n",
       "      <td>6.860353</td>\n",
       "      <td>0.253994</td>\n",
       "      <td>0.115878</td>\n",
       "      <td>0.702617</td>\n",
       "      <td>28.148861</td>\n",
       "      <td>2.105710</td>\n",
       "      <td>8.707259</td>\n",
       "      <td>168.537109</td>\n",
       "      <td>2.164946</td>\n",
       "      <td>91.294861</td>\n",
       "      <td>7.141061</td>\n",
       "      <td>9.197104</td>\n",
       "    </tr>\n",
       "    <tr>\n",
       "      <th>min</th>\n",
       "      <td>0.006320</td>\n",
       "      <td>0.000000</td>\n",
       "      <td>0.460000</td>\n",
       "      <td>0.000000</td>\n",
       "      <td>0.385000</td>\n",
       "      <td>3.561000</td>\n",
       "      <td>2.900000</td>\n",
       "      <td>1.129600</td>\n",
       "      <td>1.000000</td>\n",
       "      <td>187.000000</td>\n",
       "      <td>12.600000</td>\n",
       "      <td>0.320000</td>\n",
       "      <td>1.730000</td>\n",
       "      <td>5.000000</td>\n",
       "    </tr>\n",
       "    <tr>\n",
       "      <th>25%</th>\n",
       "      <td>0.082045</td>\n",
       "      <td>0.000000</td>\n",
       "      <td>5.190000</td>\n",
       "      <td>0.000000</td>\n",
       "      <td>0.449000</td>\n",
       "      <td>5.885500</td>\n",
       "      <td>45.025000</td>\n",
       "      <td>2.100175</td>\n",
       "      <td>4.000000</td>\n",
       "      <td>279.000000</td>\n",
       "      <td>17.400000</td>\n",
       "      <td>375.377487</td>\n",
       "      <td>6.950000</td>\n",
       "      <td>17.025000</td>\n",
       "    </tr>\n",
       "    <tr>\n",
       "      <th>50%</th>\n",
       "      <td>0.256510</td>\n",
       "      <td>0.000000</td>\n",
       "      <td>9.690000</td>\n",
       "      <td>0.000000</td>\n",
       "      <td>0.538000</td>\n",
       "      <td>6.208500</td>\n",
       "      <td>77.500000</td>\n",
       "      <td>3.207450</td>\n",
       "      <td>5.000000</td>\n",
       "      <td>330.000000</td>\n",
       "      <td>19.050000</td>\n",
       "      <td>391.440002</td>\n",
       "      <td>11.360000</td>\n",
       "      <td>21.200001</td>\n",
       "    </tr>\n",
       "    <tr>\n",
       "      <th>75%</th>\n",
       "      <td>3.677083</td>\n",
       "      <td>12.500000</td>\n",
       "      <td>18.100000</td>\n",
       "      <td>0.000000</td>\n",
       "      <td>0.624000</td>\n",
       "      <td>6.623500</td>\n",
       "      <td>94.074999</td>\n",
       "      <td>5.188425</td>\n",
       "      <td>24.000000</td>\n",
       "      <td>666.000000</td>\n",
       "      <td>20.200001</td>\n",
       "      <td>396.225006</td>\n",
       "      <td>16.954999</td>\n",
       "      <td>25.000000</td>\n",
       "    </tr>\n",
       "    <tr>\n",
       "      <th>max</th>\n",
       "      <td>88.976196</td>\n",
       "      <td>100.000000</td>\n",
       "      <td>27.740000</td>\n",
       "      <td>1.000000</td>\n",
       "      <td>0.871000</td>\n",
       "      <td>8.780000</td>\n",
       "      <td>100.000000</td>\n",
       "      <td>12.126500</td>\n",
       "      <td>24.000000</td>\n",
       "      <td>711.000000</td>\n",
       "      <td>22.000000</td>\n",
       "      <td>396.899994</td>\n",
       "      <td>37.970001</td>\n",
       "      <td>50.000000</td>\n",
       "    </tr>\n",
       "  </tbody>\n",
       "</table>\n",
       "</div>"
      ]
     },
     "metadata": {
      "application/vnd.databricks.v1+output": {
       "addedWidgets": {},
       "arguments": {},
       "data": "<div>\n<style scoped>\n    .dataframe tbody tr th:only-of-type {\n        vertical-align: middle;\n    }\n\n    .dataframe tbody tr th {\n        vertical-align: top;\n    }\n\n    .dataframe thead th {\n        text-align: right;\n    }\n</style>\n<table border=\"1\" class=\"dataframe\">\n  <thead>\n    <tr style=\"text-align: right;\">\n      <th></th>\n      <th>crim</th>\n      <th>zn</th>\n      <th>indus</th>\n      <th>chas</th>\n      <th>nox</th>\n      <th>rm</th>\n      <th>age</th>\n      <th>dis</th>\n      <th>rad</th>\n      <th>tax</th>\n      <th>ptratio</th>\n      <th>b</th>\n      <th>lstat</th>\n      <th>medv</th>\n    </tr>\n  </thead>\n  <tbody>\n    <tr>\n      <th>count</th>\n      <td>506.000000</td>\n      <td>506.000000</td>\n      <td>506.000000</td>\n      <td>506.000000</td>\n      <td>506.000000</td>\n      <td>506.000000</td>\n      <td>506.000000</td>\n      <td>506.000000</td>\n      <td>506.000000</td>\n      <td>506.000000</td>\n      <td>506.000000</td>\n      <td>506.000000</td>\n      <td>506.000000</td>\n      <td>506.000000</td>\n    </tr>\n    <tr>\n      <th>mean</th>\n      <td>3.613524</td>\n      <td>11.363636</td>\n      <td>11.136780</td>\n      <td>0.069170</td>\n      <td>0.554695</td>\n      <td>6.284634</td>\n      <td>68.574898</td>\n      <td>3.795043</td>\n      <td>9.549407</td>\n      <td>408.237152</td>\n      <td>18.455534</td>\n      <td>356.674042</td>\n      <td>12.653064</td>\n      <td>22.532806</td>\n    </tr>\n    <tr>\n      <th>std</th>\n      <td>8.601545</td>\n      <td>23.322453</td>\n      <td>6.860353</td>\n      <td>0.253994</td>\n      <td>0.115878</td>\n      <td>0.702617</td>\n      <td>28.148861</td>\n      <td>2.105710</td>\n      <td>8.707259</td>\n      <td>168.537109</td>\n      <td>2.164946</td>\n      <td>91.294861</td>\n      <td>7.141061</td>\n      <td>9.197104</td>\n    </tr>\n    <tr>\n      <th>min</th>\n      <td>0.006320</td>\n      <td>0.000000</td>\n      <td>0.460000</td>\n      <td>0.000000</td>\n      <td>0.385000</td>\n      <td>3.561000</td>\n      <td>2.900000</td>\n      <td>1.129600</td>\n      <td>1.000000</td>\n      <td>187.000000</td>\n      <td>12.600000</td>\n      <td>0.320000</td>\n      <td>1.730000</td>\n      <td>5.000000</td>\n    </tr>\n    <tr>\n      <th>25%</th>\n      <td>0.082045</td>\n      <td>0.000000</td>\n      <td>5.190000</td>\n      <td>0.000000</td>\n      <td>0.449000</td>\n      <td>5.885500</td>\n      <td>45.025000</td>\n      <td>2.100175</td>\n      <td>4.000000</td>\n      <td>279.000000</td>\n      <td>17.400000</td>\n      <td>375.377487</td>\n      <td>6.950000</td>\n      <td>17.025000</td>\n    </tr>\n    <tr>\n      <th>50%</th>\n      <td>0.256510</td>\n      <td>0.000000</td>\n      <td>9.690000</td>\n      <td>0.000000</td>\n      <td>0.538000</td>\n      <td>6.208500</td>\n      <td>77.500000</td>\n      <td>3.207450</td>\n      <td>5.000000</td>\n      <td>330.000000</td>\n      <td>19.050000</td>\n      <td>391.440002</td>\n      <td>11.360000</td>\n      <td>21.200001</td>\n    </tr>\n    <tr>\n      <th>75%</th>\n      <td>3.677083</td>\n      <td>12.500000</td>\n      <td>18.100000</td>\n      <td>0.000000</td>\n      <td>0.624000</td>\n      <td>6.623500</td>\n      <td>94.074999</td>\n      <td>5.188425</td>\n      <td>24.000000</td>\n      <td>666.000000</td>\n      <td>20.200001</td>\n      <td>396.225006</td>\n      <td>16.954999</td>\n      <td>25.000000</td>\n    </tr>\n    <tr>\n      <th>max</th>\n      <td>88.976196</td>\n      <td>100.000000</td>\n      <td>27.740000</td>\n      <td>1.000000</td>\n      <td>0.871000</td>\n      <td>8.780000</td>\n      <td>100.000000</td>\n      <td>12.126500</td>\n      <td>24.000000</td>\n      <td>711.000000</td>\n      <td>22.000000</td>\n      <td>396.899994</td>\n      <td>37.970001</td>\n      <td>50.000000</td>\n    </tr>\n  </tbody>\n</table>\n</div>",
       "datasetInfos": [],
       "metadata": {},
       "removedWidgets": [],
       "textData": null,
       "type": "htmlSandbox"
      }
     },
     "output_type": "display_data"
    }
   ],
   "source": [
    "df.describe(include = 'all')"
   ]
  },
  {
   "cell_type": "code",
   "execution_count": 0,
   "metadata": {
    "application/vnd.databricks.v1+cell": {
     "cellMetadata": {
      "byteLimit": 2048000,
      "rowLimit": 10000
     },
     "inputWidgets": {},
     "nuid": "f36805aa-7a07-4e31-beeb-6e1001d47d9a",
     "showTitle": false,
     "title": ""
    }
   },
   "outputs": [],
   "source": [
    "#TASK 4: Generate Descriptive Statistics and Visualizations"
   ]
  },
  {
   "cell_type": "code",
   "execution_count": 0,
   "metadata": {
    "application/vnd.databricks.v1+cell": {
     "cellMetadata": {
      "byteLimit": 2048000,
      "rowLimit": 10000
     },
     "inputWidgets": {},
     "nuid": "1b1e1e93-fe8d-4d51-a376-f6b7a43513b4",
     "showTitle": false,
     "title": ""
    }
   },
   "outputs": [
    {
     "data": {
      "image/png": "[encoded data removed]"
     },
     "metadata": {
      "application/vnd.databricks.v1+output": {
       "addedWidgets": {},
       "arguments": {},
       "data": "data:image/png;base64,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\n",
       "datasetInfos": [],
       "metadata": {},
       "removedWidgets": [],
       "type": "image"
      }
     },
     "output_type": "display_data"
    }
   ],
   "source": [
    "#4.1 For the \"Median value of owner-occupied homes\" provide a boxplot\n",
    "#medv\n",
    "ax = sns.boxplot(data=df.medv)\n",
    "plt.show()"
   ]
  },
  {
   "cell_type": "code",
   "execution_count": 0,
   "metadata": {
    "application/vnd.databricks.v1+cell": {
     "cellMetadata": {
      "byteLimit": 2048000,
      "rowLimit": 10000
     },
     "inputWidgets": {},
     "nuid": "fabb81ab-c04e-4a8e-aabe-0b5db23620b5",
     "showTitle": false,
     "title": ""
    }
   },
   "outputs": [
    {
     "name": "stdout",
     "output_type": "stream",
     "text": [
      "Out[12]: Text(0.5, 1.0, 'Chas distribution bar plot')"
     ]
    },
    {
     "data": {
      "image/png": "[encoded data removed]"
     },
     "metadata": {
      "application/vnd.databricks.v1+output": {
       "addedWidgets": {},
       "arguments": {},
       "data": "data:image/png;base64,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\n",
       "datasetInfos": [],
       "metadata": {},
       "removedWidgets": [],
       "type": "image"
      }
     },
     "output_type": "display_data"
    }
   ],
   "source": [
    "#4.2  Provide a  bar plot for the Charles river variable\n",
    "pyplot.bar(df.chas.unique(),df.chas.value_counts(),color=['red','blue'])\n",
    "pyplot.xlabel('chas')\n",
    "pyplot.ylabel('Count')\n",
    "pyplot.title('Chas distribution bar plot')"
   ]
  },
  {
   "cell_type": "code",
   "execution_count": 0,
   "metadata": {
    "application/vnd.databricks.v1+cell": {
     "cellMetadata": {
      "byteLimit": 2048000,
      "rowLimit": 10000
     },
     "inputWidgets": {},
     "nuid": "098b1dc7-3842-4b23-b8d8-67b02e2d1ff1",
     "showTitle": false,
     "title": ""
    }
   },
   "outputs": [
    {
     "data": {
      "image/png": "[encoded data removed]"
     },
     "metadata": {
      "application/vnd.databricks.v1+output": {
       "addedWidgets": {},
       "arguments": {},
       "data": "data:image/png;base64,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\n",
       "datasetInfos": [],
       "metadata": {},
       "removedWidgets": [],
       "type": "image"
      }
     },
     "output_type": "display_data"
    }
   ],
   "source": [
    "#4.3 Provide a boxplot for the MEDV variable vs the AGE variable. (Discretize the age variable into three groups of 35 years and younger, between 35 and 70 years and 70 years and older)\n",
    "df.loc[(df['age'] <= 35), 'age_group'] = '35 years and younger'\n",
    "df.loc[(df['age'] > 35)&(df['age'] < 70), 'age_group'] = 'between 35 and 70 years'\n",
    "df.loc[(df['age'] >= 70), 'age_group'] = '70 years and older'\n",
    "\n",
    "ax = sns.boxplot( x= 'age_group', y ='medv' ,data=df)\n",
    "plt.show()"
   ]
  },
  {
   "cell_type": "code",
   "execution_count": 0,
   "metadata": {
    "application/vnd.databricks.v1+cell": {
     "cellMetadata": {
      "byteLimit": 2048000,
      "rowLimit": 10000
     },
     "inputWidgets": {},
     "nuid": "83376b55-eeee-460b-bcb3-ae61455f8196",
     "showTitle": false,
     "title": ""
    }
   },
   "outputs": [
    {
     "data": {
      "image/png": "[encoded data removed]"
     },
     "metadata": {
      "application/vnd.databricks.v1+output": {
       "addedWidgets": {},
       "arguments": {},
       "data": "data:image/png;base64,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\n",
       "datasetInfos": [],
       "metadata": {},
       "removedWidgets": [],
       "type": "image"
      }
     },
     "output_type": "display_data"
    }
   ],
   "source": [
    "#4.4 Provide a scatter plot to show the relationship between Nitric oxide concentrations and the proportion of non-retail business acres per town. What can you say about the relationship?\n",
    "#nox indus\n",
    "\n",
    "sns.relplot(x=\"nox\", y=\"indus\",\n",
    "            data=df, height = 3, aspect = 2)\n",
    "plt.show()"
   ]
  },
  {
   "cell_type": "code",
   "execution_count": 0,
   "metadata": {
    "application/vnd.databricks.v1+cell": {
     "cellMetadata": {
      "byteLimit": 2048000,
      "rowLimit": 10000
     },
     "inputWidgets": {},
     "nuid": "c7e7ec90-498d-47e6-a675-e5807fc7dec5",
     "showTitle": false,
     "title": ""
    }
   },
   "outputs": [
    {
     "name": "stdout",
     "output_type": "stream",
     "text": [
      "Out[16]: (array([ 15.,   2.,  58.,  15.,  35.,  69.,  76.,  40., 178.,  18.]),\n",
      " array([12.6      , 13.54     , 14.4800005, 15.42     , 16.36     ,\n",
      "        17.3      , 18.24     , 19.18     , 20.12     , 21.06     ,\n",
      "        22.       ], dtype=float32),\n",
      " <BarContainer object of 10 artists>)"
     ]
    },
    {
     "data": {
      "image/png": "[encoded data removed]"
     },
     "metadata": {
      "application/vnd.databricks.v1+output": {
       "addedWidgets": {},
       "arguments": {},
       "data": "data:image/png;base64,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\n",
       "datasetInfos": [],
       "metadata": {},
       "removedWidgets": [],
       "type": "image"
      }
     },
     "output_type": "display_data"
    }
   ],
   "source": [
    "#4.5 Create a histogram for the pupil to teacher ratio variable\n",
    "pyplot.hist(df['ptratio'])\n"
   ]
  },
  {
   "cell_type": "code",
   "execution_count": 0,
   "metadata": {
    "application/vnd.databricks.v1+cell": {
     "cellMetadata": {
      "byteLimit": 2048000,
      "rowLimit": 10000
     },
     "inputWidgets": {},
     "nuid": "1a662845-6d29-4bca-bc9b-50f59a00de9f",
     "showTitle": false,
     "title": ""
    }
   },
   "outputs": [],
   "source": [
    "# TASK 5:  Use the appropriate tests to answer the questions provided."
   ]
  },
  {
   "cell_type": "code",
   "execution_count": 0,
   "metadata": {
    "application/vnd.databricks.v1+cell": {
     "cellMetadata": {
      "byteLimit": 2048000,
      "rowLimit": 10000
     },
     "inputWidgets": {},
     "nuid": "0393c322-014c-41d9-a81a-6b234e242d24",
     "showTitle": false,
     "title": ""
    }
   },
   "outputs": [
    {
     "name": "stdout",
     "output_type": "stream",
     "text": [
      "Out[18]: LeveneResult(statistic=0.4088449773867749, pvalue=0.5228468407943143)"
     ]
    }
   ],
   "source": [
    "#5.1 Is there a significant difference in median value of houses bounded by the Charles river or not? (T-test for independent samples)\n",
    "\n",
    "#check equal variances using Levenes test\n",
    "scipy.stats.levene(df[df['chas'] == 1]['tax'],\n",
    "                   df[df['chas'] == 0]['tax'], center='mean')\n",
    "\n",
    "#equal variance because the p value is above .05, therefore we fail to reject the null hypotheses"
   ]
  },
  {
   "cell_type": "code",
   "execution_count": 0,
   "metadata": {
    "application/vnd.databricks.v1+cell": {
     "cellMetadata": {
      "byteLimit": 2048000,
      "rowLimit": 10000
     },
     "inputWidgets": {},
     "nuid": "28588bf2-a78e-41bb-bebf-97ddc21abb8d",
     "showTitle": false,
     "title": ""
    }
   },
   "outputs": [
    {
     "name": "stdout",
     "output_type": "stream",
     "text": [
      "Out[19]: Ttest_indResult(statistic=-0.7994216211624436, pvalue=0.42442256824994085)"
     ]
    }
   ],
   "source": [
    "#5.1 continue\n",
    "scipy.stats.ttest_ind(df[df['chas'] == 1]['tax'],\n",
    "                   df[df['chas'] == 0]['tax'], equal_var = True)\n",
    "\n",
    "#since the p value is .4, we fail to reject the null hypothesis and we can infer that there is no difference betweeen the mean value and the charles river"
   ]
  },
  {
   "cell_type": "code",
   "execution_count": 0,
   "metadata": {
    "application/vnd.databricks.v1+cell": {
     "cellMetadata": {
      "byteLimit": 2048000,
      "rowLimit": 10000
     },
     "inputWidgets": {},
     "nuid": "2c44e102-857e-4b10-8495-777ca57884ec",
     "showTitle": false,
     "title": ""
    }
   },
   "outputs": [
    {
     "name": "stdout",
     "output_type": "stream",
     "text": [
      "Out[27]: LeveneResult(statistic=2.7806176605722035, pvalue=0.06295352092617253)"
     ]
    }
   ],
   "source": [
    "#5.2 Is there a difference in Median values of houses (MEDV) for each proportion of owner occupied units built prior to 1940 (AGE)? (ANOVA)\n",
    "#age_group    medv\n",
    "#check for equal variances using levenes test\n",
    "\n",
    "scipy.stats.levene(df[df['age_group'] ==  '35 years and younger']['medv'],\n",
    "                    df[df['age_group'] == 'between 35 and 70 years']['medv'], \n",
    "                    df[df['age_group'] == '70 years and older']['medv'], \n",
    "                    center='mean')\n",
    "\n",
    "#equal variance because the p value is above .05, therefore we fail to reject the null hypotheses"
   ]
  },
  {
   "cell_type": "code",
   "execution_count": 0,
   "metadata": {
    "application/vnd.databricks.v1+cell": {
     "cellMetadata": {
      "byteLimit": 2048000,
      "rowLimit": 10000
     },
     "inputWidgets": {},
     "nuid": "344d3b9d-aa6c-436c-a5cd-7127d0872bb5",
     "showTitle": false,
     "title": ""
    }
   },
   "outputs": [
    {
     "name": "stdout",
     "output_type": "stream",
     "text": [
      "              df        sum_sq      mean_sq          F        PR(>F)\n",
      "age_group    2.0   5401.732014  2700.866007  36.407651  1.710500e-15\n",
      "Residual   503.0  37314.563592    74.184023        NaN           NaN\n"
     ]
    }
   ],
   "source": [
    "#5.2 cont..\n",
    "lm = ols('medv ~ age_group', data = df).fit()\n",
    "table= sm.stats.anova_lm(lm) #typ=2\n",
    "print(table)\n",
    "\n",
    "#since the p value is less than .05, we will reject the null hypothesis because there is significant evidence that at least one of the means differ."
   ]
  },
  {
   "cell_type": "code",
   "execution_count": 0,
   "metadata": {
    "application/vnd.databricks.v1+cell": {
     "cellMetadata": {
      "byteLimit": 2048000,
      "rowLimit": 10000
     },
     "inputWidgets": {},
     "nuid": "69e53c1d-f5bc-4e46-a9dd-63bcc5db7104",
     "showTitle": false,
     "title": ""
    }
   },
   "outputs": [
    {
     "name": "stdout",
     "output_type": "stream",
     "text": [
      "Out[30]: <AxesSubplot:xlabel='nox', ylabel='indus'>"
     ]
    },
    {
     "data": {
      "image/png": "[encoded data removed]"
     },
     "metadata": {
      "application/vnd.databricks.v1+output": {
       "addedWidgets": {},
       "arguments": {},
       "data": "data:image/png;base64,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\n",
       "datasetInfos": [],
       "metadata": {},
       "removedWidgets": [],
       "type": "image"
      }
     },
     "output_type": "display_data"
    }
   ],
   "source": [
    "#5.3  Can we conclude that there is no relationship between Nitric oxide concentrations and proportion of non-retail business acres per town? (Pearson Correlation)\n",
    "#NOX INDUS\n",
    "\n",
    "#lets first look at the realtionship graphicaly\n",
    "ax = sns.scatterplot(x=\"nox\", y=\"indus\", data=df)\n",
    "ax\n"
   ]
  },
  {
   "cell_type": "code",
   "execution_count": 0,
   "metadata": {
    "application/vnd.databricks.v1+cell": {
     "cellMetadata": {
      "byteLimit": 2048000,
      "rowLimit": 10000
     },
     "inputWidgets": {},
     "nuid": "012689d5-bf34-4862-906b-38a7b6f1a6e3",
     "showTitle": false,
     "title": ""
    }
   },
   "outputs": [
    {
     "name": "stdout",
     "output_type": "stream",
     "text": [
      "Out[33]: (0.7636514584146167, 7.913276962407469e-98)"
     ]
    }
   ],
   "source": [
    "#5.3 cont..\n",
    "scipy.stats.pearsonr(df['nox'], df['indus'])\n",
    "#since the p value is smaller than the sig value of 0.05, we will reject the null hypothese and conslude that there exists a relationship between the 2 variables"
   ]
  },
  {
   "cell_type": "code",
   "execution_count": 0,
   "metadata": {
    "application/vnd.databricks.v1+cell": {
     "cellMetadata": {
      "byteLimit": 2048000,
      "rowLimit": 10000
     },
     "inputWidgets": {},
     "nuid": "9fb0d34a-f4f1-44b0-9ffa-7d3baf6fdbb4",
     "showTitle": false,
     "title": ""
    }
   },
   "outputs": [
    {
     "data": {
      "text/html": [
       "<table class=\"simpletable\">\n",
       "<caption>OLS Regression Results</caption>\n",
       "<tr>\n",
       "  <th>Dep. Variable:</th>          <td>medv</td>       <th>  R-squared:         </th> <td>   0.062</td>\n",
       "</tr>\n",
       "<tr>\n",
       "  <th>Model:</th>                   <td>OLS</td>       <th>  Adj. R-squared:    </th> <td>   0.061</td>\n",
       "</tr>\n",
       "<tr>\n",
       "  <th>Method:</th>             <td>Least Squares</td>  <th>  F-statistic:       </th> <td>   33.58</td>\n",
       "</tr>\n",
       "<tr>\n",
       "  <th>Date:</th>             <td>Mon, 13 Nov 2023</td> <th>  Prob (F-statistic):</th> <td>1.21e-08</td>\n",
       "</tr>\n",
       "<tr>\n",
       "  <th>Time:</th>                 <td>02:50:43</td>     <th>  Log-Likelihood:    </th> <td> -1823.9</td>\n",
       "</tr>\n",
       "<tr>\n",
       "  <th>No. Observations:</th>      <td>   506</td>      <th>  AIC:               </th> <td>   3652.</td>\n",
       "</tr>\n",
       "<tr>\n",
       "  <th>Df Residuals:</th>          <td>   504</td>      <th>  BIC:               </th> <td>   3660.</td>\n",
       "</tr>\n",
       "<tr>\n",
       "  <th>Df Model:</th>              <td>     1</td>      <th>                     </th>     <td> </td>   \n",
       "</tr>\n",
       "<tr>\n",
       "  <th>Covariance Type:</th>      <td>nonrobust</td>    <th>                     </th>     <td> </td>   \n",
       "</tr>\n",
       "</table>\n",
       "<table class=\"simpletable\">\n",
       "<tr>\n",
       "    <td></td>       <th>coef</th>     <th>std err</th>      <th>t</th>      <th>P>|t|</th>  <th>[0.025</th>    <th>0.975]</th>  \n",
       "</tr>\n",
       "<tr>\n",
       "  <th>const</th> <td>   18.3901</td> <td>    0.817</td> <td>   22.499</td> <td> 0.000</td> <td>   16.784</td> <td>   19.996</td>\n",
       "</tr>\n",
       "<tr>\n",
       "  <th>dis</th>   <td>    1.0916</td> <td>    0.188</td> <td>    5.795</td> <td> 0.000</td> <td>    0.722</td> <td>    1.462</td>\n",
       "</tr>\n",
       "</table>\n",
       "<table class=\"simpletable\">\n",
       "<tr>\n",
       "  <th>Omnibus:</th>       <td>139.779</td> <th>  Durbin-Watson:     </th> <td>   0.570</td>\n",
       "</tr>\n",
       "<tr>\n",
       "  <th>Prob(Omnibus):</th> <td> 0.000</td>  <th>  Jarque-Bera (JB):  </th> <td> 305.104</td>\n",
       "</tr>\n",
       "<tr>\n",
       "  <th>Skew:</th>          <td> 1.466</td>  <th>  Prob(JB):          </th> <td>5.59e-67</td>\n",
       "</tr>\n",
       "<tr>\n",
       "  <th>Kurtosis:</th>      <td> 5.424</td>  <th>  Cond. No.          </th> <td>    9.32</td>\n",
       "</tr>\n",
       "</table><br/><br/>Notes:<br/>[1] Standard Errors assume that the covariance matrix of the errors is correctly specified."
      ]
     },
     "metadata": {
      "application/vnd.databricks.v1+output": {
       "addedWidgets": {},
       "arguments": {},
       "data": "<table class=\"simpletable\">\n<caption>OLS Regression Results</caption>\n<tr>\n  <th>Dep. Variable:</th>          <td>medv</td>       <th>  R-squared:         </th> <td>   0.062</td>\n</tr>\n<tr>\n  <th>Model:</th>                   <td>OLS</td>       <th>  Adj. R-squared:    </th> <td>   0.061</td>\n</tr>\n<tr>\n  <th>Method:</th>             <td>Least Squares</td>  <th>  F-statistic:       </th> <td>   33.58</td>\n</tr>\n<tr>\n  <th>Date:</th>             <td>Mon, 13 Nov 2023</td> <th>  Prob (F-statistic):</th> <td>1.21e-08</td>\n</tr>\n<tr>\n  <th>Time:</th>                 <td>02:50:43</td>     <th>  Log-Likelihood:    </th> <td> -1823.9</td>\n</tr>\n<tr>\n  <th>No. Observations:</th>      <td>   506</td>      <th>  AIC:               </th> <td>   3652.</td>\n</tr>\n<tr>\n  <th>Df Residuals:</th>          <td>   504</td>      <th>  BIC:               </th> <td>   3660.</td>\n</tr>\n<tr>\n  <th>Df Model:</th>              <td>     1</td>      <th>                     </th>     <td> </td>   \n</tr>\n<tr>\n  <th>Covariance Type:</th>      <td>nonrobust</td>    <th>                     </th>     <td> </td>   \n</tr>\n</table>\n<table class=\"simpletable\">\n<tr>\n    <td></td>       <th>coef</th>     <th>std err</th>      <th>t</th>      <th>P>|t|</th>  <th>[0.025</th>    <th>0.975]</th>  \n</tr>\n<tr>\n  <th>const</th> <td>   18.3901</td> <td>    0.817</td> <td>   22.499</td> <td> 0.000</td> <td>   16.784</td> <td>   19.996</td>\n</tr>\n<tr>\n  <th>dis</th>   <td>    1.0916</td> <td>    0.188</td> <td>    5.795</td> <td> 0.000</td> <td>    0.722</td> <td>    1.462</td>\n</tr>\n</table>\n<table class=\"simpletable\">\n<tr>\n  <th>Omnibus:</th>       <td>139.779</td> <th>  Durbin-Watson:     </th> <td>   0.570</td>\n</tr>\n<tr>\n  <th>Prob(Omnibus):</th> <td> 0.000</td>  <th>  Jarque-Bera (JB):  </th> <td> 305.104</td>\n</tr>\n<tr>\n  <th>Skew:</th>          <td> 1.466</td>  <th>  Prob(JB):          </th> <td>5.59e-67</td>\n</tr>\n<tr>\n  <th>Kurtosis:</th>      <td> 5.424</td>  <th>  Cond. No.          </th> <td>    9.32</td>\n</tr>\n</table><br/><br/>Notes:<br/>[1] Standard Errors assume that the covariance matrix of the errors is correctly specified.",
       "datasetInfos": [],
       "metadata": {},
       "removedWidgets": [],
       "textData": null,
       "type": "htmlSandbox"
      }
     },
     "output_type": "display_data"
    }
   ],
   "source": [
    "#5.4  What is the impact of an additional weighted distance to the five Boston employment centres on the median value of owner occupied homes? (Regression analysis)\n",
    "\n",
    "\n",
    "X = df['dis']\n",
    "y = df['medv']\n",
    "\n",
    "\n",
    "\n",
    "## add an intercept (beta_0) to our model\n",
    "X = sm.add_constant(X) \n",
    "\n",
    "model = sm.OLS(y, X).fit()\n",
    "predictions = model.predict(X)\n",
    "\n",
    "# Print out the statistics\n",
    "model.summary()\n",
    "\n",
    "#looking at the regression output, we can infer that an additional weight of the variablve DIS increases the MEDV by 1.096"
   ]
  },
  {
   "cell_type": "code",
   "execution_count": 0,
   "metadata": {
    "application/vnd.databricks.v1+cell": {
     "cellMetadata": {
      "byteLimit": 2048000,
      "rowLimit": 10000
     },
     "inputWidgets": {},
     "nuid": "6a7c230d-199f-48f7-a530-0cd3867b0d19",
     "showTitle": false,
     "title": ""
    }
   },
   "outputs": [],
   "source": []
  },
  {
   "cell_type": "code",
   "execution_count": 0,
   "metadata": {
    "application/vnd.databricks.v1+cell": {
     "cellMetadata": {
      "byteLimit": 2048000,
      "rowLimit": 10000
     },
     "inputWidgets": {},
     "nuid": "648b5fd0-177e-4b38-bb61-1f64fd2a34b4",
     "showTitle": false,
     "title": ""
    }
   },
   "outputs": [],
   "source": []
  }
 ],
 "metadata": {
  "application/vnd.databricks.v1+notebook": {
   "dashboards": [],
   "language": "python",
   "notebookMetadata": {
    "pythonIndentUnit": 4
   },
   "notebookName": "IBM_pythonStatistics_week7",
   "widgets": {}
  },
  "kernelspec": {
   "display_name": "Python 3 (ipykernel)",
   "language": "python",
   "name": "python3"
  },
  "language_info": {
   "codemirror_mode": {
    "name": "ipython",
    "version": 3
   },
   "file_extension": ".py",
   "mimetype": "text/x-python",
   "name": "python",
   "nbconvert_exporter": "python",
   "pygments_lexer": "ipython3",
   "version": "3.9.13"
  }
 },
 "nbformat": 4,
 "nbformat_minor": 1
}
