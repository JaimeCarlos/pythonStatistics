{
 "cells": [
  {
   "cell_type": "code",
   "execution_count": 0,
   "metadata": {
    "application/vnd.databricks.v1+cell": {
     "cellMetadata": {
      "byteLimit": 2048000,
      "rowLimit": 10000
     },
     "inputWidgets": {},
     "nuid": "1f11d293-47a1-4036-9222-4e2fb3944d67",
     "showTitle": false,
     "title": ""
    }
   },
   "outputs": [],
   "source": []
  },
  {
   "cell_type": "code",
   "execution_count": 0,
   "metadata": {
    "application/vnd.databricks.v1+cell": {
     "cellMetadata": {
      "byteLimit": 2048000,
      "rowLimit": 10000
     },
     "inputWidgets": {},
     "nuid": "d4b270d4-e539-4b81-8438-2f42b8f6099d",
     "showTitle": false,
     "title": ""
    }
   },
   "outputs": [],
   "source": []
  },
  {
   "cell_type": "code",
   "execution_count": 0,
   "metadata": {
    "application/vnd.databricks.v1+cell": {
     "cellMetadata": {
      "byteLimit": 2048000,
      "rowLimit": 10000
     },
     "inputWidgets": {},
     "nuid": "1eb73d40-2a8f-4594-a705-bd7b609b7c7f",
     "showTitle": false,
     "title": ""
    }
   },
   "outputs": [],
   "source": []
  },
  {
   "cell_type": "code",
   "execution_count": 0,
   "metadata": {
    "application/vnd.databricks.v1+cell": {
     "cellMetadata": {
      "byteLimit": 2048000,
      "rowLimit": 10000
     },
     "inputWidgets": {},
     "nuid": "400c1710-68fa-4eee-8a37-25e266bde418",
     "showTitle": false,
     "title": ""
    }
   },
   "outputs": [],
   "source": []
  },
  {
   "cell_type": "code",
   "execution_count": 0,
   "metadata": {
    "application/vnd.databricks.v1+cell": {
     "cellMetadata": {
      "byteLimit": 2048000,
      "rowLimit": 10000
     },
     "inputWidgets": {},
     "nuid": "0f317399-b3a6-4768-8b9e-c2a9eacf5f4b",
     "showTitle": false,
     "title": ""
    }
   },
   "outputs": [
    {
     "output_type": "display_data",
     "data": {
      "text/plain": [
       "\u001B[0;36m  File \u001B[0;32m<command-2826638283817113>:3\u001B[0;36m\u001B[0m\n",
       "\u001B[0;31m    housing prices derived from the U.S. Census Service\u001B[0m\n",
       "\u001B[0m            ^\u001B[0m\n",
       "\u001B[0;31mSyntaxError\u001B[0m\u001B[0;31m:\u001B[0m invalid syntax\n"
      ]
     },
     "metadata": {
      "application/vnd.databricks.v1+output": {
       "arguments": {},
       "data": "\u001B[0;36m  File \u001B[0;32m<command-2826638283817113>:3\u001B[0;36m\u001B[0m\n\u001B[0;31m    housing prices derived from the U.S. Census Service\u001B[0m\n\u001B[0m            ^\u001B[0m\n\u001B[0;31mSyntaxError\u001B[0m\u001B[0;31m:\u001B[0m invalid syntax\n",
       "errorSummary": "<span class='ansi-red-fg'>SyntaxError</span>: invalid syntax (<command-2826638283817113>, line 3)",
       "errorTraceType": "ansi",
       "metadata": {},
       "type": "ipynbError"
      }
     },
     "output_type": "display_data"
    }
   ],
   "source": [
    "#Project Case: Boston Housing Data\n",
    "\n",
    "housing prices derived from the U.S. Census Service\n",
    "present insights to higher management\n",
    "\n",
    "what information can you provide Higher Managment to help with making an informed decision?\n",
    "Upper management will like to get some insight into the following:\n",
    "    \n",
    "    1.Is there a significant difference in the median value of houses bounded by the Charles river or not?\n",
    "    2.Is there a difference in median values of houses of each proportion of owner-occupied units built before 1940?\n",
    "    3.Can we conclude that there is no relationship between Nitric oxide concentrations and the proportion of non-retail business acres per town?\n",
    "    4.What is the impact of an additional weighted distance to the five Boston employment centres on the median value of owner-occupied homes?\n",
    "    \n",
    "\n",
    "Using the appropriate:\n",
    "    graphs,\n",
    "    charts,\n",
    "    generate basic statistics,\n",
    "    visualizations \n",
    "    that you think will be useful for the upper management to give them important insight given the question they are asking, \n",
    "\n",
    "    In your graphs, include an explanation of each statistic. \n",
    "\n",
    "\n",
    "\n",
    "\n",
    "\n",
    "\n",
    "\n",
    "\n",
    "\n",
    "\n",
    "\n",
    "OVERVIEW OF PROJECT TASK\n",
    "\n",
    "Final Project: For the project scenario, here is an overview of your tasks. The following reading sections will provide you with detailed instructions for each task.\n",
    "\n",
    "\n",
    "Task 1: Familiarize yourself with the dataset \n",
    "Task 2: (Optional) If you do not already have an instance of Watson Studio, create an IBM Cloud Lite account and provision an instance of Waston Studio.\n",
    "Task 3: Load the dataset in a Jupyter Notebook using Watson Studio.\n",
    "Task 4: Generate basic statistics and visualizations for upper management. \n",
    "Task 5: Use the appropriate tests to answer the questions provided.\n",
    "Task 6: Share your Jupyter Notebook.\n",
    "\n",
    "This project is worth 15% of your final grade. Detailed instructions for each of these tasks follow.\n",
    "\n"
   ]
  },
  {
   "cell_type": "code",
   "execution_count": 0,
   "metadata": {
    "application/vnd.databricks.v1+cell": {
     "cellMetadata": {
      "byteLimit": 2048000,
      "rowLimit": 10000
     },
     "inputWidgets": {},
     "nuid": "ba16d591-f8ea-4f85-b2a0-1420307edd04",
     "showTitle": false,
     "title": ""
    }
   },
   "outputs": [
    {
     "output_type": "display_data",
     "data": {
      "text/plain": [
       ""
      ]
     },
     "metadata": {
      "application/vnd.databricks.v1+output": {
       "arguments": {},
       "data": "",
       "errorSummary": "Command skipped",
       "errorTraceType": "ansi",
       "metadata": {},
       "type": "ipynbError"
      }
     },
     "output_type": "display_data"
    }
   ],
   "source": [
    "#Task 1 (Familiarize yourself with the dataset)\n",
    "\n",
    "The following describes the dataset variables:\n",
    "\n",
    "·      CRIM - per capita crime rate by town\n",
    "\n",
    "·      ZN - proportion of residential land zoned for lots over 25,000 sq.ft.\n",
    "\n",
    "·      INDUS - proportion of non-retail business acres per town.\n",
    "\n",
    "·      CHAS - Charles River dummy variable (1 if tract bounds river; 0 otherwise)\n",
    "\n",
    "·      NOX - nitric oxides concentration (parts per 10 million)\n",
    "\n",
    "·      RM - average number of rooms per dwelling\n",
    "\n",
    "·      AGE - proportion of owner-occupied units built prior to 1940\n",
    "\n",
    "·      DIS - weighted distances to five Boston employment centres\n",
    "\n",
    "·      RAD - index of accessibility to radial highways\n",
    "\n",
    "·      TAX - full-value property-tax rate per $10,000\n",
    "\n",
    "·      PTRATIO - pupil-teacher ratio by town\n",
    "\n",
    "·      LSTAT - % lower status of the population\n",
    "\n",
    "·      MEDV - Median value of owner-occupied homes in $1000's\n",
    "\n"
   ]
  },
  {
   "cell_type": "code",
   "execution_count": 0,
   "metadata": {
    "application/vnd.databricks.v1+cell": {
     "cellMetadata": {
      "byteLimit": 2048000,
      "rowLimit": 10000
     },
     "inputWidgets": {},
     "nuid": "5e8198b1-dd3a-467a-acc8-20a1325c4b50",
     "showTitle": false,
     "title": ""
    }
   },
   "outputs": [],
   "source": []
  },
  {
   "cell_type": "code",
   "execution_count": 0,
   "metadata": {
    "application/vnd.databricks.v1+cell": {
     "cellMetadata": {
      "byteLimit": 2048000,
      "rowLimit": 10000
     },
     "inputWidgets": {},
     "nuid": "8c065387-b19e-46f1-bbf3-8c1e240155d7",
     "showTitle": false,
     "title": ""
    }
   },
   "outputs": [],
   "source": [
    "import matplotlib.pyplot as pyplot\n",
    "import seaborn as sns\n",
    "import matplotlib.pyplot as plt \n",
    "import scipy.stats\n",
    "from statsmodels.formula.api import ols\n",
    "import statsmodels.api as sm"
   ]
  },
  {
   "cell_type": "code",
   "execution_count": 0,
   "metadata": {
    "application/vnd.databricks.v1+cell": {
     "cellMetadata": {
      "byteLimit": 2048000,
      "rowLimit": 10000
     },
     "inputWidgets": {},
     "nuid": "9c010783-9fb5-4e58-b931-06067ee5e9a6",
     "showTitle": false,
     "title": ""
    }
   },
   "outputs": [],
   "source": [
    "#TASK 2: CREATE OR LOGIN INTO IBM CLOUD TO USE WATSON STUDIO (SKIP SKIP SKIP OPTIONAL)"
   ]
  },
  {
   "cell_type": "code",
   "execution_count": 0,
   "metadata": {
    "application/vnd.databricks.v1+cell": {
     "cellMetadata": {
      "byteLimit": 2048000,
      "rowLimit": 10000
     },
     "inputWidgets": {},
     "nuid": "554cdab2-9a5c-4ea8-8524-08a445becab6",
     "showTitle": false,
     "title": ""
    }
   },
   "outputs": [],
   "source": [
    "from pyspark.sql.functions import col"
   ]
  },
  {
   "cell_type": "code",
   "execution_count": 0,
   "metadata": {
    "application/vnd.databricks.v1+cell": {
     "cellMetadata": {
      "byteLimit": 2048000,
      "rowLimit": 10000
     },
     "inputWidgets": {},
     "nuid": "92a11bf6-bb36-44b2-af79-fcd54d26baac",
     "showTitle": false,
     "title": ""
    }
   },
   "outputs": [],
   "source": [
    "#TASK 3: Load in the Dataset in your Jupyter Notebook\n",
    "df_spark= spark.read.option(\"escape\", \"\\\"\").csv(\"abfss://datascience@gmfcusproddpmlandingsa.dfs.core.windows.net/DS_Orig/Input/Carlos/TEST_practiceData/sampleData.csv\", header=\"true\")\n",
    "for column in df_spark.columns:\n",
    "    df_spark = df_spark.withColumn(column, col(column).cast('float'))"
   ]
  },
  {
   "cell_type": "code",
   "execution_count": 0,
   "metadata": {
    "application/vnd.databricks.v1+cell": {
     "cellMetadata": {
      "byteLimit": 2048000,
      "rowLimit": 10000
     },
     "inputWidgets": {},
     "nuid": "787c5132-175d-42c3-9a8a-519163d3bc8b",
     "showTitle": false,
     "title": ""
    }
   },
   "outputs": [
    {
     "output_type": "stream",
     "name": "stdout",
     "output_type": "stream",
     "text": [
      "Out[4]: (506, 14)"
     ]
    }
   ],
   "source": [
    "df_pandas= df_spark.toPandas()\n",
    "df = df_pandas.copy()\n",
    "df.shape"
   ]
  },
  {
   "cell_type": "code",
   "execution_count": 0,
   "metadata": {
    "application/vnd.databricks.v1+cell": {
     "cellMetadata": {
      "byteLimit": 2048000,
      "rowLimit": 10000
     },
     "inputWidgets": {},
     "nuid": "93621dd8-aa5a-487a-becf-4a78f0c8df4b",
     "showTitle": false,
     "title": ""
    }
   },
   "outputs": [
    {
     "output_type": "stream",
     "name": "stdout",
     "output_type": "stream",
     "text": [
      "<class 'pandas.core.frame.DataFrame'>\nRangeIndex: 506 entries, 0 to 505\nData columns (total 14 columns):\n #   Column   Non-Null Count  Dtype  \n---  ------   --------------  -----  \n 0   crim     506 non-null    float32\n 1   zn       506 non-null    float32\n 2   indus    506 non-null    float32\n 3   chas     506 non-null    float32\n 4   nox      506 non-null    float32\n 5   rm       506 non-null    float32\n 6   age      506 non-null    float32\n 7   dis      506 non-null    float32\n 8   rad      506 non-null    float32\n 9   tax      506 non-null    float32\n 10  ptratio  506 non-null    float32\n 11  b        506 non-null    float32\n 12  lstat    506 non-null    float32\n 13  medv     506 non-null    float32\ndtypes: float32(14)\nmemory usage: 27.8 KB\n"
     ]
    }
   ],
   "source": [
    "df.info()"
   ]
  },
  {
   "cell_type": "code",
   "execution_count": 0,
   "metadata": {
    "application/vnd.databricks.v1+cell": {
     "cellMetadata": {
      "byteLimit": 2048000,
      "rowLimit": 10000
     },
     "inputWidgets": {},
     "nuid": "7454af94-b3a1-484f-959a-2c287f9b54cc",
     "showTitle": false,
     "title": ""
    }
   },
   "outputs": [
    {
     "output_type": "display_data",
     "data": {
      "text/html": [
       "<div>\n",
       "<style scoped>\n",
       "    .dataframe tbody tr th:only-of-type {\n",
       "        vertical-align: middle;\n",
       "    }\n",
       "\n",
       "    .dataframe tbody tr th {\n",
       "        vertical-align: top;\n",
       "    }\n",
       "\n",
       "    .dataframe thead th {\n",
       "        text-align: right;\n",
       "    }\n",
       "</style>\n",
       "<table border=\"1\" class=\"dataframe\">\n",
       "  <thead>\n",
       "    <tr style=\"text-align: right;\">\n",
       "      <th></th>\n",
       "      <th>crim</th>\n",
       "      <th>zn</th>\n",
       "      <th>indus</th>\n",
       "      <th>chas</th>\n",
       "      <th>nox</th>\n",
       "      <th>rm</th>\n",
       "      <th>age</th>\n",
       "      <th>dis</th>\n",
       "      <th>rad</th>\n",
       "      <th>tax</th>\n",
       "      <th>ptratio</th>\n",
       "      <th>b</th>\n",
       "      <th>lstat</th>\n",
       "      <th>medv</th>\n",
       "    </tr>\n",
       "  </thead>\n",
       "  <tbody>\n",
       "    <tr>\n",
       "      <th>0</th>\n",
       "      <td>0.00632</td>\n",
       "      <td>18.0</td>\n",
       "      <td>2.31</td>\n",
       "      <td>0.0</td>\n",
       "      <td>0.538</td>\n",
       "      <td>6.575</td>\n",
       "      <td>65.199997</td>\n",
       "      <td>4.0900</td>\n",
       "      <td>1.0</td>\n",
       "      <td>296.0</td>\n",
       "      <td>15.300000</td>\n",
       "      <td>396.899994</td>\n",
       "      <td>4.98</td>\n",
       "      <td>24.000000</td>\n",
       "    </tr>\n",
       "    <tr>\n",
       "      <th>1</th>\n",
       "      <td>0.02731</td>\n",
       "      <td>0.0</td>\n",
       "      <td>7.07</td>\n",
       "      <td>0.0</td>\n",
       "      <td>0.469</td>\n",
       "      <td>6.421</td>\n",
       "      <td>78.900002</td>\n",
       "      <td>4.9671</td>\n",
       "      <td>2.0</td>\n",
       "      <td>242.0</td>\n",
       "      <td>17.799999</td>\n",
       "      <td>396.899994</td>\n",
       "      <td>9.14</td>\n",
       "      <td>21.600000</td>\n",
       "    </tr>\n",
       "    <tr>\n",
       "      <th>2</th>\n",
       "      <td>0.02729</td>\n",
       "      <td>0.0</td>\n",
       "      <td>7.07</td>\n",
       "      <td>0.0</td>\n",
       "      <td>0.469</td>\n",
       "      <td>7.185</td>\n",
       "      <td>61.099998</td>\n",
       "      <td>4.9671</td>\n",
       "      <td>2.0</td>\n",
       "      <td>242.0</td>\n",
       "      <td>17.799999</td>\n",
       "      <td>392.829987</td>\n",
       "      <td>4.03</td>\n",
       "      <td>34.700001</td>\n",
       "    </tr>\n",
       "    <tr>\n",
       "      <th>3</th>\n",
       "      <td>0.03237</td>\n",
       "      <td>0.0</td>\n",
       "      <td>2.18</td>\n",
       "      <td>0.0</td>\n",
       "      <td>0.458</td>\n",
       "      <td>6.998</td>\n",
       "      <td>45.799999</td>\n",
       "      <td>6.0622</td>\n",
       "      <td>3.0</td>\n",
       "      <td>222.0</td>\n",
       "      <td>18.700001</td>\n",
       "      <td>394.630005</td>\n",
       "      <td>2.94</td>\n",
       "      <td>33.400002</td>\n",
       "    </tr>\n",
       "    <tr>\n",
       "      <th>4</th>\n",
       "      <td>0.06905</td>\n",
       "      <td>0.0</td>\n",
       "      <td>2.18</td>\n",
       "      <td>0.0</td>\n",
       "      <td>0.458</td>\n",
       "      <td>7.147</td>\n",
       "      <td>54.200001</td>\n",
       "      <td>6.0622</td>\n",
       "      <td>3.0</td>\n",
       "      <td>222.0</td>\n",
       "      <td>18.700001</td>\n",
       "      <td>396.899994</td>\n",
       "      <td>5.33</td>\n",
       "      <td>36.200001</td>\n",
       "    </tr>\n",
       "  </tbody>\n",
       "</table>\n",
       "</div>"
      ]
     },
     "metadata": {
      "application/vnd.databricks.v1+output": {
       "addedWidgets": {},
       "arguments": {},
       "data": "<div>\n<style scoped>\n    .dataframe tbody tr th:only-of-type {\n        vertical-align: middle;\n    }\n\n    .dataframe tbody tr th {\n        vertical-align: top;\n    }\n\n    .dataframe thead th {\n        text-align: right;\n    }\n</style>\n<table border=\"1\" class=\"dataframe\">\n  <thead>\n    <tr style=\"text-align: right;\">\n      <th></th>\n      <th>crim</th>\n      <th>zn</th>\n      <th>indus</th>\n      <th>chas</th>\n      <th>nox</th>\n      <th>rm</th>\n      <th>age</th>\n      <th>dis</th>\n      <th>rad</th>\n      <th>tax</th>\n      <th>ptratio</th>\n      <th>b</th>\n      <th>lstat</th>\n      <th>medv</th>\n    </tr>\n  </thead>\n  <tbody>\n    <tr>\n      <th>0</th>\n      <td>0.00632</td>\n      <td>18.0</td>\n      <td>2.31</td>\n      <td>0.0</td>\n      <td>0.538</td>\n      <td>6.575</td>\n      <td>65.199997</td>\n      <td>4.0900</td>\n      <td>1.0</td>\n      <td>296.0</td>\n      <td>15.300000</td>\n      <td>396.899994</td>\n      <td>4.98</td>\n      <td>24.000000</td>\n    </tr>\n    <tr>\n      <th>1</th>\n      <td>0.02731</td>\n      <td>0.0</td>\n      <td>7.07</td>\n      <td>0.0</td>\n      <td>0.469</td>\n      <td>6.421</td>\n      <td>78.900002</td>\n      <td>4.9671</td>\n      <td>2.0</td>\n      <td>242.0</td>\n      <td>17.799999</td>\n      <td>396.899994</td>\n      <td>9.14</td>\n      <td>21.600000</td>\n    </tr>\n    <tr>\n      <th>2</th>\n      <td>0.02729</td>\n      <td>0.0</td>\n      <td>7.07</td>\n      <td>0.0</td>\n      <td>0.469</td>\n      <td>7.185</td>\n      <td>61.099998</td>\n      <td>4.9671</td>\n      <td>2.0</td>\n      <td>242.0</td>\n      <td>17.799999</td>\n      <td>392.829987</td>\n      <td>4.03</td>\n      <td>34.700001</td>\n    </tr>\n    <tr>\n      <th>3</th>\n      <td>0.03237</td>\n      <td>0.0</td>\n      <td>2.18</td>\n      <td>0.0</td>\n      <td>0.458</td>\n      <td>6.998</td>\n      <td>45.799999</td>\n      <td>6.0622</td>\n      <td>3.0</td>\n      <td>222.0</td>\n      <td>18.700001</td>\n      <td>394.630005</td>\n      <td>2.94</td>\n      <td>33.400002</td>\n    </tr>\n    <tr>\n      <th>4</th>\n      <td>0.06905</td>\n      <td>0.0</td>\n      <td>2.18</td>\n      <td>0.0</td>\n      <td>0.458</td>\n      <td>7.147</td>\n      <td>54.200001</td>\n      <td>6.0622</td>\n      <td>3.0</td>\n      <td>222.0</td>\n      <td>18.700001</td>\n      <td>396.899994</td>\n      <td>5.33</td>\n      <td>36.200001</td>\n    </tr>\n  </tbody>\n</table>\n</div>",
       "datasetInfos": [],
       "metadata": {},
       "removedWidgets": [],
       "textData": null,
       "type": "htmlSandbox"
      }
     },
     "output_type": "display_data"
    }
   ],
   "source": [
    "df.head()"
   ]
  },
  {
   "cell_type": "code",
   "execution_count": 0,
   "metadata": {
    "application/vnd.databricks.v1+cell": {
     "cellMetadata": {
      "byteLimit": 2048000,
      "rowLimit": 10000
     },
     "inputWidgets": {},
     "nuid": "1d880193-4ec1-4c27-b929-8ec61d368b9b",
     "showTitle": false,
     "title": ""
    }
   },
   "outputs": [
    {
     "output_type": "display_data",
     "data": {
      "text/html": [
       "<div>\n",
       "<style scoped>\n",
       "    .dataframe tbody tr th:only-of-type {\n",
       "        vertical-align: middle;\n",
       "    }\n",
       "\n",
       "    .dataframe tbody tr th {\n",
       "        vertical-align: top;\n",
       "    }\n",
       "\n",
       "    .dataframe thead th {\n",
       "        text-align: right;\n",
       "    }\n",
       "</style>\n",
       "<table border=\"1\" class=\"dataframe\">\n",
       "  <thead>\n",
       "    <tr style=\"text-align: right;\">\n",
       "      <th></th>\n",
       "      <th>crim</th>\n",
       "      <th>zn</th>\n",
       "      <th>indus</th>\n",
       "      <th>chas</th>\n",
       "      <th>nox</th>\n",
       "      <th>rm</th>\n",
       "      <th>age</th>\n",
       "      <th>dis</th>\n",
       "      <th>rad</th>\n",
       "      <th>tax</th>\n",
       "      <th>ptratio</th>\n",
       "      <th>b</th>\n",
       "      <th>lstat</th>\n",
       "      <th>medv</th>\n",
       "    </tr>\n",
       "  </thead>\n",
       "  <tbody>\n",
       "    <tr>\n",
       "      <th>count</th>\n",
       "      <td>506.000000</td>\n",
       "      <td>506.000000</td>\n",
       "      <td>506.000000</td>\n",
       "      <td>506.000000</td>\n",
       "      <td>506.000000</td>\n",
       "      <td>506.000000</td>\n",
       "      <td>506.000000</td>\n",
       "      <td>506.000000</td>\n",
       "      <td>506.000000</td>\n",
       "      <td>506.000000</td>\n",
       "      <td>506.000000</td>\n",
       "      <td>506.000000</td>\n",
       "      <td>506.000000</td>\n",
       "      <td>506.000000</td>\n",
       "    </tr>\n",
       "    <tr>\n",
       "      <th>mean</th>\n",
       "      <td>3.613524</td>\n",
       "      <td>11.363636</td>\n",
       "      <td>11.136780</td>\n",
       "      <td>0.069170</td>\n",
       "      <td>0.554695</td>\n",
       "      <td>6.284634</td>\n",
       "      <td>68.574898</td>\n",
       "      <td>3.795043</td>\n",
       "      <td>9.549407</td>\n",
       "      <td>408.237152</td>\n",
       "      <td>18.455534</td>\n",
       "      <td>356.674042</td>\n",
       "      <td>12.653064</td>\n",
       "      <td>22.532806</td>\n",
       "    </tr>\n",
       "    <tr>\n",
       "      <th>std</th>\n",
       "      <td>8.601545</td>\n",
       "      <td>23.322453</td>\n",
       "      <td>6.860353</td>\n",
       "      <td>0.253994</td>\n",
       "      <td>0.115878</td>\n",
       "      <td>0.702617</td>\n",
       "      <td>28.148861</td>\n",
       "      <td>2.105710</td>\n",
       "      <td>8.707259</td>\n",
       "      <td>168.537109</td>\n",
       "      <td>2.164946</td>\n",
       "      <td>91.294861</td>\n",
       "      <td>7.141061</td>\n",
       "      <td>9.197104</td>\n",
       "    </tr>\n",
       "    <tr>\n",
       "      <th>min</th>\n",
       "      <td>0.006320</td>\n",
       "      <td>0.000000</td>\n",
       "      <td>0.460000</td>\n",
       "      <td>0.000000</td>\n",
       "      <td>0.385000</td>\n",
       "      <td>3.561000</td>\n",
       "      <td>2.900000</td>\n",
       "      <td>1.129600</td>\n",
       "      <td>1.000000</td>\n",
       "      <td>187.000000</td>\n",
       "      <td>12.600000</td>\n",
       "      <td>0.320000</td>\n",
       "      <td>1.730000</td>\n",
       "      <td>5.000000</td>\n",
       "    </tr>\n",
       "    <tr>\n",
       "      <th>25%</th>\n",
       "      <td>0.082045</td>\n",
       "      <td>0.000000</td>\n",
       "      <td>5.190000</td>\n",
       "      <td>0.000000</td>\n",
       "      <td>0.449000</td>\n",
       "      <td>5.885500</td>\n",
       "      <td>45.025000</td>\n",
       "      <td>2.100175</td>\n",
       "      <td>4.000000</td>\n",
       "      <td>279.000000</td>\n",
       "      <td>17.400000</td>\n",
       "      <td>375.377487</td>\n",
       "      <td>6.950000</td>\n",
       "      <td>17.025000</td>\n",
       "    </tr>\n",
       "    <tr>\n",
       "      <th>50%</th>\n",
       "      <td>0.256510</td>\n",
       "      <td>0.000000</td>\n",
       "      <td>9.690000</td>\n",
       "      <td>0.000000</td>\n",
       "      <td>0.538000</td>\n",
       "      <td>6.208500</td>\n",
       "      <td>77.500000</td>\n",
       "      <td>3.207450</td>\n",
       "      <td>5.000000</td>\n",
       "      <td>330.000000</td>\n",
       "      <td>19.050000</td>\n",
       "      <td>391.440002</td>\n",
       "      <td>11.360000</td>\n",
       "      <td>21.200001</td>\n",
       "    </tr>\n",
       "    <tr>\n",
       "      <th>75%</th>\n",
       "      <td>3.677083</td>\n",
       "      <td>12.500000</td>\n",
       "      <td>18.100000</td>\n",
       "      <td>0.000000</td>\n",
       "      <td>0.624000</td>\n",
       "      <td>6.623500</td>\n",
       "      <td>94.074999</td>\n",
       "      <td>5.188425</td>\n",
       "      <td>24.000000</td>\n",
       "      <td>666.000000</td>\n",
       "      <td>20.200001</td>\n",
       "      <td>396.225006</td>\n",
       "      <td>16.954999</td>\n",
       "      <td>25.000000</td>\n",
       "    </tr>\n",
       "    <tr>\n",
       "      <th>max</th>\n",
       "      <td>88.976196</td>\n",
       "      <td>100.000000</td>\n",
       "      <td>27.740000</td>\n",
       "      <td>1.000000</td>\n",
       "      <td>0.871000</td>\n",
       "      <td>8.780000</td>\n",
       "      <td>100.000000</td>\n",
       "      <td>12.126500</td>\n",
       "      <td>24.000000</td>\n",
       "      <td>711.000000</td>\n",
       "      <td>22.000000</td>\n",
       "      <td>396.899994</td>\n",
       "      <td>37.970001</td>\n",
       "      <td>50.000000</td>\n",
       "    </tr>\n",
       "  </tbody>\n",
       "</table>\n",
       "</div>"
      ]
     },
     "metadata": {
      "application/vnd.databricks.v1+output": {
       "addedWidgets": {},
       "arguments": {},
       "data": "<div>\n<style scoped>\n    .dataframe tbody tr th:only-of-type {\n        vertical-align: middle;\n    }\n\n    .dataframe tbody tr th {\n        vertical-align: top;\n    }\n\n    .dataframe thead th {\n        text-align: right;\n    }\n</style>\n<table border=\"1\" class=\"dataframe\">\n  <thead>\n    <tr style=\"text-align: right;\">\n      <th></th>\n      <th>crim</th>\n      <th>zn</th>\n      <th>indus</th>\n      <th>chas</th>\n      <th>nox</th>\n      <th>rm</th>\n      <th>age</th>\n      <th>dis</th>\n      <th>rad</th>\n      <th>tax</th>\n      <th>ptratio</th>\n      <th>b</th>\n      <th>lstat</th>\n      <th>medv</th>\n    </tr>\n  </thead>\n  <tbody>\n    <tr>\n      <th>count</th>\n      <td>506.000000</td>\n      <td>506.000000</td>\n      <td>506.000000</td>\n      <td>506.000000</td>\n      <td>506.000000</td>\n      <td>506.000000</td>\n      <td>506.000000</td>\n      <td>506.000000</td>\n      <td>506.000000</td>\n      <td>506.000000</td>\n      <td>506.000000</td>\n      <td>506.000000</td>\n      <td>506.000000</td>\n      <td>506.000000</td>\n    </tr>\n    <tr>\n      <th>mean</th>\n      <td>3.613524</td>\n      <td>11.363636</td>\n      <td>11.136780</td>\n      <td>0.069170</td>\n      <td>0.554695</td>\n      <td>6.284634</td>\n      <td>68.574898</td>\n      <td>3.795043</td>\n      <td>9.549407</td>\n      <td>408.237152</td>\n      <td>18.455534</td>\n      <td>356.674042</td>\n      <td>12.653064</td>\n      <td>22.532806</td>\n    </tr>\n    <tr>\n      <th>std</th>\n      <td>8.601545</td>\n      <td>23.322453</td>\n      <td>6.860353</td>\n      <td>0.253994</td>\n      <td>0.115878</td>\n      <td>0.702617</td>\n      <td>28.148861</td>\n      <td>2.105710</td>\n      <td>8.707259</td>\n      <td>168.537109</td>\n      <td>2.164946</td>\n      <td>91.294861</td>\n      <td>7.141061</td>\n      <td>9.197104</td>\n    </tr>\n    <tr>\n      <th>min</th>\n      <td>0.006320</td>\n      <td>0.000000</td>\n      <td>0.460000</td>\n      <td>0.000000</td>\n      <td>0.385000</td>\n      <td>3.561000</td>\n      <td>2.900000</td>\n      <td>1.129600</td>\n      <td>1.000000</td>\n      <td>187.000000</td>\n      <td>12.600000</td>\n      <td>0.320000</td>\n      <td>1.730000</td>\n      <td>5.000000</td>\n    </tr>\n    <tr>\n      <th>25%</th>\n      <td>0.082045</td>\n      <td>0.000000</td>\n      <td>5.190000</td>\n      <td>0.000000</td>\n      <td>0.449000</td>\n      <td>5.885500</td>\n      <td>45.025000</td>\n      <td>2.100175</td>\n      <td>4.000000</td>\n      <td>279.000000</td>\n      <td>17.400000</td>\n      <td>375.377487</td>\n      <td>6.950000</td>\n      <td>17.025000</td>\n    </tr>\n    <tr>\n      <th>50%</th>\n      <td>0.256510</td>\n      <td>0.000000</td>\n      <td>9.690000</td>\n      <td>0.000000</td>\n      <td>0.538000</td>\n      <td>6.208500</td>\n      <td>77.500000</td>\n      <td>3.207450</td>\n      <td>5.000000</td>\n      <td>330.000000</td>\n      <td>19.050000</td>\n      <td>391.440002</td>\n      <td>11.360000</td>\n      <td>21.200001</td>\n    </tr>\n    <tr>\n      <th>75%</th>\n      <td>3.677083</td>\n      <td>12.500000</td>\n      <td>18.100000</td>\n      <td>0.000000</td>\n      <td>0.624000</td>\n      <td>6.623500</td>\n      <td>94.074999</td>\n      <td>5.188425</td>\n      <td>24.000000</td>\n      <td>666.000000</td>\n      <td>20.200001</td>\n      <td>396.225006</td>\n      <td>16.954999</td>\n      <td>25.000000</td>\n    </tr>\n    <tr>\n      <th>max</th>\n      <td>88.976196</td>\n      <td>100.000000</td>\n      <td>27.740000</td>\n      <td>1.000000</td>\n      <td>0.871000</td>\n      <td>8.780000</td>\n      <td>100.000000</td>\n      <td>12.126500</td>\n      <td>24.000000</td>\n      <td>711.000000</td>\n      <td>22.000000</td>\n      <td>396.899994</td>\n      <td>37.970001</td>\n      <td>50.000000</td>\n    </tr>\n  </tbody>\n</table>\n</div>",
       "datasetInfos": [],
       "metadata": {},
       "removedWidgets": [],
       "textData": null,
       "type": "htmlSandbox"
      }
     },
     "output_type": "display_data"
    }
   ],
   "source": [
    "df.describe(include = 'all')"
   ]
  },
  {
   "cell_type": "code",
   "execution_count": 0,
   "metadata": {
    "application/vnd.databricks.v1+cell": {
     "cellMetadata": {
      "byteLimit": 2048000,
      "rowLimit": 10000
     },
     "inputWidgets": {},
     "nuid": "f36805aa-7a07-4e31-beeb-6e1001d47d9a",
     "showTitle": false,
     "title": ""
    }
   },
   "outputs": [],
   "source": [
    "#TASK 4: Generate Descriptive Statistics and Visualizations"
   ]
  },
  {
   "cell_type": "code",
   "execution_count": 0,
   "metadata": {
    "application/vnd.databricks.v1+cell": {
     "cellMetadata": {
      "byteLimit": 2048000,
      "rowLimit": 10000
     },
     "inputWidgets": {},
     "nuid": "1b1e1e93-fe8d-4d51-a376-f6b7a43513b4",
     "showTitle": false,
     "title": ""
    }
   },
   "outputs": [
    {
     "output_type": "display_data",
     "data": {
      "image/png": "[encoded data removed]"
     },
     "metadata": {
      "application/vnd.databricks.v1+output": {
       "addedWidgets": {},
       "arguments": {},
       "data": "data:image/png;base64,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\n",
       "datasetInfos": [],
       "metadata": {},
       "removedWidgets": [],
       "type": "image"
      }
     },
     "output_type": "display_data"
    }
   ],
   "source": [
    "#4.1 For the \"Median value of owner-occupied homes\" provide a boxplot\n",
    "#medv\n",
    "ax = sns.boxplot(data=df.medv)\n",
    "plt.title(\"Boxplot for MEDV\")\n",
    "plt.show()\n",
    "#EXPLANATION, we can see that the median or\n",
    "#  Q2 is the center line in the blue area,\n",
    "#  which is around 20.any points outisde \n",
    "# the wiskers can possibly be outliers."
   ]
  },
  {
   "cell_type": "code",
   "execution_count": 0,
   "metadata": {
    "application/vnd.databricks.v1+cell": {
     "cellMetadata": {
      "byteLimit": 2048000,
      "rowLimit": 10000
     },
     "inputWidgets": {},
     "nuid": "fabb81ab-c04e-4a8e-aabe-0b5db23620b5",
     "showTitle": false,
     "title": ""
    }
   },
   "outputs": [
    {
     "output_type": "stream",
     "name": "stdout",
     "output_type": "stream",
     "text": [
      "Out[10]: Text(0.5, 1.0, 'Chas distribution bar plot')"
     ]
    },
    {
     "output_type": "display_data",
     "data": {
      "image/png": "[encoded data removed]"
     },
     "metadata": {
      "application/vnd.databricks.v1+output": {
       "addedWidgets": {},
       "arguments": {},
       "data": "data:image/png;base64,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\n",
       "datasetInfos": [],
       "metadata": {},
       "removedWidgets": [],
       "type": "image"
      }
     },
     "output_type": "display_data"
    }
   ],
   "source": [
    "#4.2  Provide a  bar plot for the Charles river variable\n",
    "pyplot.bar(df.chas.unique(),df.chas.value_counts(),color=['red','blue'])\n",
    "pyplot.xlabel('chas')\n",
    "pyplot.ylabel('Count')\n",
    "pyplot.title('Chas distribution bar plot')\n",
    "\n",
    "#EXPLANATION, most of the values in the chas variable \n",
    "# are smaller than .5 opposed greater than .5 which\n",
    "# means most of the data is not \"Tract bounds river\"\n",
    "#  and more fall into the 0 category for \"otherwise.\"\n",
    "# \n",
    "#  CHAS - Charles River dummy variable (1 if tract bounds river; 0 otherwise)"
   ]
  },
  {
   "cell_type": "code",
   "execution_count": 0,
   "metadata": {
    "application/vnd.databricks.v1+cell": {
     "cellMetadata": {
      "byteLimit": 2048000,
      "rowLimit": 10000
     },
     "inputWidgets": {},
     "nuid": "098b1dc7-3842-4b23-b8d8-67b02e2d1ff1",
     "showTitle": false,
     "title": ""
    }
   },
   "outputs": [
    {
     "output_type": "display_data",
     "data": {
      "image/png": "[encoded data removed]"
     },
     "metadata": {
      "application/vnd.databricks.v1+output": {
       "addedWidgets": {},
       "arguments": {},
       "data": "data:image/png;base64,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\n",
       "datasetInfos": [],
       "metadata": {},
       "removedWidgets": [],
       "type": "image"
      }
     },
     "output_type": "display_data"
    }
   ],
   "source": [
    "#4.3 Provide a boxplot for the MEDV variable vs the AGE variable. (Discretize the age variable into three groups of 35 years and younger, between 35 and 70 years and 70 years and older)\n",
    "df.loc[(df['age'] <= 35), 'age_group'] = '35 years and younger'\n",
    "df.loc[(df['age'] > 35)&(df['age'] < 70), 'age_group'] = 'between 35 and 70 years'\n",
    "df.loc[(df['age'] >= 70), 'age_group'] = '70 years and older'\n",
    "\n",
    "ax = sns.boxplot( x= 'age_group', y ='medv' ,data=df)\n",
    "plt.title(\"Boxplot for MEDV vs age group\")\n",
    "plt.show()\n",
    "\n",
    "#EXPLANATION, we can see the Q2 median by looking at the middle \n",
    "# lines in the boxes and see that they are almost all the same\n",
    "#the dots outside the wiskers could mean outliers and we can\n",
    "#  see the more prodount in the \"between 35-70\",\n",
    "#Also,the middle lines in the boxes are not exaclty \n",
    "# in the center which could represent skwness."
   ]
  },
  {
   "cell_type": "code",
   "execution_count": 0,
   "metadata": {
    "application/vnd.databricks.v1+cell": {
     "cellMetadata": {
      "byteLimit": 2048000,
      "rowLimit": 10000
     },
     "inputWidgets": {},
     "nuid": "83376b55-eeee-460b-bcb3-ae61455f8196",
     "showTitle": false,
     "title": ""
    }
   },
   "outputs": [
    {
     "output_type": "display_data",
     "data": {
      "image/png": "[encoded data removed]"
     },
     "metadata": {
      "application/vnd.databricks.v1+output": {
       "addedWidgets": {},
       "arguments": {},
       "data": "data:image/png;base64,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\n",
       "datasetInfos": [],
       "metadata": {},
       "removedWidgets": [],
       "type": "image"
      }
     },
     "output_type": "display_data"
    }
   ],
   "source": [
    "#4.4 Provide a scatter plot to show the relationship between Nitric oxide concentrations and the proportion of non-retail business acres per town. What can you say about the relationship?\n",
    "#nox indus\n",
    "\n",
    "sns.relplot(x=\"nox\", y=\"indus\",\n",
    "            data=df, height = 3, aspect = 2)\n",
    "plt.title(\"nox and indus relationship \")\n",
    "plt.show()\n",
    "#EXPLANATION, just by looking at the graph\n",
    "#  it does look like there is a linear\n",
    "#  relationship between the 2 variables\n",
    "#since we can see an upward trend."
   ]
  },
  {
   "cell_type": "code",
   "execution_count": 0,
   "metadata": {
    "application/vnd.databricks.v1+cell": {
     "cellMetadata": {
      "byteLimit": 2048000,
      "rowLimit": 10000
     },
     "inputWidgets": {},
     "nuid": "c7e7ec90-498d-47e6-a675-e5807fc7dec5",
     "showTitle": false,
     "title": ""
    }
   },
   "outputs": [
    {
     "output_type": "display_data",
     "data": {
      "image/png": "[encoded data removed]"
     },
     "metadata": {
      "application/vnd.databricks.v1+output": {
       "addedWidgets": {},
       "arguments": {},
       "data": "data:image/png;base64,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\n",
       "datasetInfos": [],
       "metadata": {},
       "removedWidgets": [],
       "type": "image"
      }
     },
     "output_type": "display_data"
    }
   ],
   "source": [
    "#4.5 Create a histogram for the pupil to teacher ratio variable\n",
    "pyplot.hist(df['ptratio'])\n",
    "plt.title(\"histogram - pupil to teacher ratio variable\")\n",
    "plt.show()\n",
    "#EXPLANATION:\n",
    "# we can see that the values range from about 12 to 22\n",
    "# we can also see that the distribution is right skewed \n",
    "#we can also see noticible spikes\n",
    "#also, maybe even some outliers by the way the right tail looks"
   ]
  },
  {
   "cell_type": "code",
   "execution_count": 0,
   "metadata": {
    "application/vnd.databricks.v1+cell": {
     "cellMetadata": {
      "byteLimit": 2048000,
      "rowLimit": 10000
     },
     "inputWidgets": {},
     "nuid": "1a662845-6d29-4bca-bc9b-50f59a00de9f",
     "showTitle": false,
     "title": ""
    }
   },
   "outputs": [],
   "source": [
    "# TASK 5:  Use the appropriate tests to answer the questions provided."
   ]
  },
  {
   "cell_type": "code",
   "execution_count": 0,
   "metadata": {
    "application/vnd.databricks.v1+cell": {
     "cellMetadata": {
      "byteLimit": 2048000,
      "rowLimit": 10000
     },
     "inputWidgets": {},
     "nuid": "0393c322-014c-41d9-a81a-6b234e242d24",
     "showTitle": false,
     "title": ""
    }
   },
   "outputs": [
    {
     "output_type": "stream",
     "name": "stdout",
     "output_type": "stream",
     "text": [
      "Out[15]: LeveneResult(statistic=0.4088449773867749, pvalue=0.5228468407943143)"
     ]
    }
   ],
   "source": [
    "#5.1 Is there a significant difference in median value of houses bounded by the Charles river or not? (T-test for independent samples)\n",
    "\n",
    "#check equal variances using Levenes test\n",
    "scipy.stats.levene(df[df['chas'] == 1]['tax'],\n",
    "                   df[df['chas'] == 0]['tax'], center='mean')\n",
    "\n",
    "#equal variance \n",
    "# because the p value is\n",
    "#  above .05, therefore \n",
    "# we fail to reject the null hypotheses"
   ]
  },
  {
   "cell_type": "code",
   "execution_count": 0,
   "metadata": {
    "application/vnd.databricks.v1+cell": {
     "cellMetadata": {
      "byteLimit": 2048000,
      "rowLimit": 10000
     },
     "inputWidgets": {},
     "nuid": "28588bf2-a78e-41bb-bebf-97ddc21abb8d",
     "showTitle": false,
     "title": ""
    }
   },
   "outputs": [
    {
     "output_type": "stream",
     "name": "stdout",
     "output_type": "stream",
     "text": [
      "Out[16]: Ttest_indResult(statistic=-0.7994216211624436, pvalue=0.42442256824994085)"
     ]
    }
   ],
   "source": [
    "#5.1 continue\n",
    "scipy.stats.ttest_ind(df[df['chas'] == 1]['tax'],\n",
    "                   df[df['chas'] == 0]['tax'], equal_var = True)\n",
    "\n",
    "#EXPLANATION since the p value is .4, we fail to reject\n",
    "# the null hypothesis and we can infer that there\n",
    "#  is no difference betweeen the mean value and the charles river"
   ]
  },
  {
   "cell_type": "code",
   "execution_count": 0,
   "metadata": {
    "application/vnd.databricks.v1+cell": {
     "cellMetadata": {
      "byteLimit": 2048000,
      "rowLimit": 10000
     },
     "inputWidgets": {},
     "nuid": "2c44e102-857e-4b10-8495-777ca57884ec",
     "showTitle": false,
     "title": ""
    }
   },
   "outputs": [
    {
     "output_type": "stream",
     "name": "stdout",
     "output_type": "stream",
     "text": [
      "Out[17]: LeveneResult(statistic=2.7806176605722035, pvalue=0.06295352092617253)"
     ]
    }
   ],
   "source": [
    "#5.2 Is there a difference in Median values of houses (MEDV) for each proportion of owner occupied units built prior to 1940 (AGE)? (ANOVA)\n",
    "#age_group    medv\n",
    "#check for equal variances using levenes test\n",
    "\n",
    "scipy.stats.levene(df[df['age_group'] ==  '35 years and younger']['medv'],\n",
    "                    df[df['age_group'] == 'between 35 and 70 years']['medv'], \n",
    "                    df[df['age_group'] == '70 years and older']['medv'], \n",
    "                    center='mean')\n",
    "\n",
    "#EXPLANATION equal variance because the\n",
    "#  p value is above .05,\n",
    "#  therefore we fail to reject the null hypotheses"
   ]
  },
  {
   "cell_type": "code",
   "execution_count": 0,
   "metadata": {
    "application/vnd.databricks.v1+cell": {
     "cellMetadata": {
      "byteLimit": 2048000,
      "rowLimit": 10000
     },
     "inputWidgets": {},
     "nuid": "344d3b9d-aa6c-436c-a5cd-7127d0872bb5",
     "showTitle": false,
     "title": ""
    }
   },
   "outputs": [
    {
     "output_type": "stream",
     "name": "stdout",
     "output_type": "stream",
     "text": [
      "              df        sum_sq      mean_sq          F        PR(>F)\nage_group    2.0   5401.732014  2700.866007  36.407651  1.710500e-15\nResidual   503.0  37314.563592    74.184023        NaN           NaN\n"
     ]
    }
   ],
   "source": [
    "#5.2 cont..\n",
    "lm = ols('medv ~ age_group', data = df).fit()\n",
    "table= sm.stats.anova_lm(lm) #typ=2\n",
    "print(table)\n",
    "\n",
    "#EXPLANATION since the p value is\n",
    "#  less than .05, we will\n",
    "#  reject the null hypothesis\n",
    "#  because there is significant \n",
    "# evidence that at least one of the means differ."
   ]
  },
  {
   "cell_type": "code",
   "execution_count": 0,
   "metadata": {
    "application/vnd.databricks.v1+cell": {
     "cellMetadata": {
      "byteLimit": 2048000,
      "rowLimit": 10000
     },
     "inputWidgets": {},
     "nuid": "69e53c1d-f5bc-4e46-a9dd-63bcc5db7104",
     "showTitle": false,
     "title": ""
    }
   },
   "outputs": [
    {
     "output_type": "display_data",
     "data": {
      "image/png": "[encoded data removed]"
     },
     "metadata": {
      "application/vnd.databricks.v1+output": {
       "addedWidgets": {},
       "arguments": {},
       "data": "data:image/png;base64,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\n",
       "datasetInfos": [],
       "metadata": {},
       "removedWidgets": [],
       "type": "image"
      }
     },
     "output_type": "display_data"
    }
   ],
   "source": [
    "#5.3  Can we conclude that there is no relationship between Nitric oxide concentrations and proportion of non-retail business acres per town? (Pearson Correlation)\n",
    "#NOX INDUS\n",
    "\n",
    "#lets first look at the realtionship graphicaly\n",
    "ax = sns.scatterplot(x=\"nox\", y=\"indus\", data=df)\n",
    "plt.title(\"visual relationship graph- nox vs indus\")\n",
    "plt.show()\n"
   ]
  },
  {
   "cell_type": "code",
   "execution_count": 0,
   "metadata": {
    "application/vnd.databricks.v1+cell": {
     "cellMetadata": {
      "byteLimit": 2048000,
      "rowLimit": 10000
     },
     "inputWidgets": {},
     "nuid": "012689d5-bf34-4862-906b-38a7b6f1a6e3",
     "showTitle": false,
     "title": ""
    }
   },
   "outputs": [
    {
     "output_type": "stream",
     "name": "stdout",
     "output_type": "stream",
     "text": [
      "Out[20]: (0.7636514584146167, 7.913276962407469e-98)"
     ]
    }
   ],
   "source": [
    "#5.3 cont..\n",
    "scipy.stats.pearsonr(df['nox'], df['indus'])\n",
    "#EXPLANATION since the p value is smaller \n",
    "# than the sig value of 0.05,\n",
    "#  we will reject the null\n",
    "#  hypothese and conslude that\n",
    "#  there exists a relationship between the 2 variables"
   ]
  },
  {
   "cell_type": "code",
   "execution_count": 0,
   "metadata": {
    "application/vnd.databricks.v1+cell": {
     "cellMetadata": {
      "byteLimit": 2048000,
      "rowLimit": 10000
     },
     "inputWidgets": {},
     "nuid": "9fb0d34a-f4f1-44b0-9ffa-7d3baf6fdbb4",
     "showTitle": false,
     "title": ""
    }
   },
   "outputs": [
    {
     "output_type": "display_data",
     "data": {
      "text/html": [
       "<table class=\"simpletable\">\n",
       "<caption>OLS Regression Results</caption>\n",
       "<tr>\n",
       "  <th>Dep. Variable:</th>          <td>medv</td>       <th>  R-squared:         </th> <td>   0.062</td>\n",
       "</tr>\n",
       "<tr>\n",
       "  <th>Model:</th>                   <td>OLS</td>       <th>  Adj. R-squared:    </th> <td>   0.061</td>\n",
       "</tr>\n",
       "<tr>\n",
       "  <th>Method:</th>             <td>Least Squares</td>  <th>  F-statistic:       </th> <td>   33.58</td>\n",
       "</tr>\n",
       "<tr>\n",
       "  <th>Date:</th>             <td>Mon, 13 Nov 2023</td> <th>  Prob (F-statistic):</th> <td>1.21e-08</td>\n",
       "</tr>\n",
       "<tr>\n",
       "  <th>Time:</th>                 <td>22:18:12</td>     <th>  Log-Likelihood:    </th> <td> -1823.9</td>\n",
       "</tr>\n",
       "<tr>\n",
       "  <th>No. Observations:</th>      <td>   506</td>      <th>  AIC:               </th> <td>   3652.</td>\n",
       "</tr>\n",
       "<tr>\n",
       "  <th>Df Residuals:</th>          <td>   504</td>      <th>  BIC:               </th> <td>   3660.</td>\n",
       "</tr>\n",
       "<tr>\n",
       "  <th>Df Model:</th>              <td>     1</td>      <th>                     </th>     <td> </td>   \n",
       "</tr>\n",
       "<tr>\n",
       "  <th>Covariance Type:</th>      <td>nonrobust</td>    <th>                     </th>     <td> </td>   \n",
       "</tr>\n",
       "</table>\n",
       "<table class=\"simpletable\">\n",
       "<tr>\n",
       "    <td></td>       <th>coef</th>     <th>std err</th>      <th>t</th>      <th>P>|t|</th>  <th>[0.025</th>    <th>0.975]</th>  \n",
       "</tr>\n",
       "<tr>\n",
       "  <th>const</th> <td>   18.3901</td> <td>    0.817</td> <td>   22.499</td> <td> 0.000</td> <td>   16.784</td> <td>   19.996</td>\n",
       "</tr>\n",
       "<tr>\n",
       "  <th>dis</th>   <td>    1.0916</td> <td>    0.188</td> <td>    5.795</td> <td> 0.000</td> <td>    0.722</td> <td>    1.462</td>\n",
       "</tr>\n",
       "</table>\n",
       "<table class=\"simpletable\">\n",
       "<tr>\n",
       "  <th>Omnibus:</th>       <td>139.779</td> <th>  Durbin-Watson:     </th> <td>   0.570</td>\n",
       "</tr>\n",
       "<tr>\n",
       "  <th>Prob(Omnibus):</th> <td> 0.000</td>  <th>  Jarque-Bera (JB):  </th> <td> 305.104</td>\n",
       "</tr>\n",
       "<tr>\n",
       "  <th>Skew:</th>          <td> 1.466</td>  <th>  Prob(JB):          </th> <td>5.59e-67</td>\n",
       "</tr>\n",
       "<tr>\n",
       "  <th>Kurtosis:</th>      <td> 5.424</td>  <th>  Cond. No.          </th> <td>    9.32</td>\n",
       "</tr>\n",
       "</table><br/><br/>Notes:<br/>[1] Standard Errors assume that the covariance matrix of the errors is correctly specified."
      ]
     },
     "metadata": {
      "application/vnd.databricks.v1+output": {
       "addedWidgets": {},
       "arguments": {},
       "data": "<table class=\"simpletable\">\n<caption>OLS Regression Results</caption>\n<tr>\n  <th>Dep. Variable:</th>          <td>medv</td>       <th>  R-squared:         </th> <td>   0.062</td>\n</tr>\n<tr>\n  <th>Model:</th>                   <td>OLS</td>       <th>  Adj. R-squared:    </th> <td>   0.061</td>\n</tr>\n<tr>\n  <th>Method:</th>             <td>Least Squares</td>  <th>  F-statistic:       </th> <td>   33.58</td>\n</tr>\n<tr>\n  <th>Date:</th>             <td>Mon, 13 Nov 2023</td> <th>  Prob (F-statistic):</th> <td>1.21e-08</td>\n</tr>\n<tr>\n  <th>Time:</th>                 <td>22:18:12</td>     <th>  Log-Likelihood:    </th> <td> -1823.9</td>\n</tr>\n<tr>\n  <th>No. Observations:</th>      <td>   506</td>      <th>  AIC:               </th> <td>   3652.</td>\n</tr>\n<tr>\n  <th>Df Residuals:</th>          <td>   504</td>      <th>  BIC:               </th> <td>   3660.</td>\n</tr>\n<tr>\n  <th>Df Model:</th>              <td>     1</td>      <th>                     </th>     <td> </td>   \n</tr>\n<tr>\n  <th>Covariance Type:</th>      <td>nonrobust</td>    <th>                     </th>     <td> </td>   \n</tr>\n</table>\n<table class=\"simpletable\">\n<tr>\n    <td></td>       <th>coef</th>     <th>std err</th>      <th>t</th>      <th>P>|t|</th>  <th>[0.025</th>    <th>0.975]</th>  \n</tr>\n<tr>\n  <th>const</th> <td>   18.3901</td> <td>    0.817</td> <td>   22.499</td> <td> 0.000</td> <td>   16.784</td> <td>   19.996</td>\n</tr>\n<tr>\n  <th>dis</th>   <td>    1.0916</td> <td>    0.188</td> <td>    5.795</td> <td> 0.000</td> <td>    0.722</td> <td>    1.462</td>\n</tr>\n</table>\n<table class=\"simpletable\">\n<tr>\n  <th>Omnibus:</th>       <td>139.779</td> <th>  Durbin-Watson:     </th> <td>   0.570</td>\n</tr>\n<tr>\n  <th>Prob(Omnibus):</th> <td> 0.000</td>  <th>  Jarque-Bera (JB):  </th> <td> 305.104</td>\n</tr>\n<tr>\n  <th>Skew:</th>          <td> 1.466</td>  <th>  Prob(JB):          </th> <td>5.59e-67</td>\n</tr>\n<tr>\n  <th>Kurtosis:</th>      <td> 5.424</td>  <th>  Cond. No.          </th> <td>    9.32</td>\n</tr>\n</table><br/><br/>Notes:<br/>[1] Standard Errors assume that the covariance matrix of the errors is correctly specified.",
       "datasetInfos": [],
       "metadata": {},
       "removedWidgets": [],
       "textData": null,
       "type": "htmlSandbox"
      }
     },
     "output_type": "display_data"
    }
   ],
   "source": [
    "#5.4  What is the impact of an additional weighted distance to the five Boston employment centres on the median value of owner occupied homes? (Regression analysis)\n",
    "\n",
    "\n",
    "X = df['dis']\n",
    "y = df['medv']\n",
    "\n",
    "\n",
    "\n",
    "## add an intercept (beta_0) to our model\n",
    "X = sm.add_constant(X) \n",
    "\n",
    "model = sm.OLS(y, X).fit()\n",
    "predictions = model.predict(X)\n",
    "\n",
    "# Print out the statistics\n",
    "model.summary()\n",
    "\n",
    "#looking at the\n",
    "#  regression output, \n",
    "# we can infer that an additional\n",
    "#  weight of the variablve DIS\n",
    "#  increases the MEDV by 1.096"
   ]
  },
  {
   "cell_type": "code",
   "execution_count": 0,
   "metadata": {
    "application/vnd.databricks.v1+cell": {
     "cellMetadata": {
      "byteLimit": 2048000,
      "rowLimit": 10000
     },
     "inputWidgets": {},
     "nuid": "6a7c230d-199f-48f7-a530-0cd3867b0d19",
     "showTitle": false,
     "title": ""
    }
   },
   "outputs": [],
   "source": []
  },
  {
   "cell_type": "code",
   "execution_count": 0,
   "metadata": {
    "application/vnd.databricks.v1+cell": {
     "cellMetadata": {
      "byteLimit": 2048000,
      "rowLimit": 10000
     },
     "inputWidgets": {},
     "nuid": "648b5fd0-177e-4b38-bb61-1f64fd2a34b4",
     "showTitle": false,
     "title": ""
    }
   },
   "outputs": [],
   "source": []
  }
 ],
 "metadata": {
  "application/vnd.databricks.v1+notebook": {
   "dashboards": [],
   "language": "python",
   "notebookMetadata": {
    "pythonIndentUnit": 4
   },
   "notebookName": "IBM_pythonStatistics_week7",
   "widgets": {}
  }
 },
 "nbformat": 4,
 "nbformat_minor": 0
}
